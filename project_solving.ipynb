{
 "cells": [
  {
   "cell_type": "markdown",
   "metadata": {},
   "source": [
    "# Project Instructions"
   ]
  },
  {
   "cell_type": "markdown",
   "metadata": {},
   "source": [
    "The insurance company Sure Tomorrow wants to solve several tasks with the help of machine learning and asks you to evaluate this possibility.\n",
    "- Task 1: Find customers who are similar to a given customer. This will help the company's agents with marketing.\n",
    "- Task 2: Predict the probability of a new customer receiving an insurance benefit. Can a predictive model perform better than a dummy model?\n",
    "- Task 3: Predict the number of insurance benefits a new customer is likely to receive using a linear regression model.\n",
    "- Task 4: Protect customer personal data without affecting the model from the previous exercise. It is necessary to develop a data transformation algorithm that makes it difficult to recover personal information if the data falls into the wrong hands. This is called data masking or obfuscation. However, the data must be protected in such a way that the quality of the machine learning models is not affected. It is not necessary to choose the best model; it is enough to demonstrate that the algorithm works correctly.\n"
   ]
  },
  {
   "cell_type": "markdown",
   "metadata": {},
   "source": [
    "# Data preprocessing and exploration"
   ]
  },
  {
   "cell_type": "code",
   "execution_count": 4,
   "metadata": {
    "trusted": true
   },
   "outputs": [
    {
     "name": "stdout",
     "output_type": "stream",
     "text": [
      "Requirement already satisfied: scikit-learn in /opt/anaconda3/lib/python3.12/site-packages (1.6.1)\n",
      "Requirement already satisfied: numpy>=1.19.5 in /opt/anaconda3/lib/python3.12/site-packages (from scikit-learn) (1.26.4)\n",
      "Requirement already satisfied: scipy>=1.6.0 in /opt/anaconda3/lib/python3.12/site-packages (from scikit-learn) (1.13.1)\n",
      "Requirement already satisfied: joblib>=1.2.0 in /opt/anaconda3/lib/python3.12/site-packages (from scikit-learn) (1.4.2)\n",
      "Requirement already satisfied: threadpoolctl>=3.1.0 in /opt/anaconda3/lib/python3.12/site-packages (from scikit-learn) (3.5.0)\n",
      "\n",
      "\u001b[1m[\u001b[0m\u001b[34;49mnotice\u001b[0m\u001b[1;39;49m]\u001b[0m\u001b[39;49m A new release of pip is available: \u001b[0m\u001b[31;49m25.0.1\u001b[0m\u001b[39;49m -> \u001b[0m\u001b[32;49m25.1.1\u001b[0m\n",
      "\u001b[1m[\u001b[0m\u001b[34;49mnotice\u001b[0m\u001b[1;39;49m]\u001b[0m\u001b[39;49m To update, run: \u001b[0m\u001b[32;49mpip install --upgrade pip\u001b[0m\n",
      "Note: you may need to restart the kernel to use updated packages.\n"
     ]
    }
   ],
   "source": [
    "pip install scikit-learn --upgrade"
   ]
  },
  {
   "cell_type": "code",
   "execution_count": 59,
   "metadata": {
    "trusted": true
   },
   "outputs": [],
   "source": [
    "import numpy as np\n",
    "import pandas as pd\n",
    "\n",
    "import seaborn as sns\n",
    "\n",
    "import sklearn.linear_model\n",
    "import sklearn.metrics\n",
    "import sklearn.neighbors\n",
    "import sklearn.preprocessing\n",
    "from sklearn.neighbors import NearestNeighbors\n",
    "from sklearn.preprocessing import MaxAbsScaler\n",
    "from sklearn.neighbors import KNeighborsClassifier\n",
    "from sklearn.metrics import f1_score\n",
    "from sklearn.metrics import root_mean_squared_error, r2_score\n",
    "\n",
    "import math\n",
    "from sklearn.linear_model import LinearRegression\n",
    "\n",
    "from sklearn.model_selection import train_test_split\n",
    "\n",
    "from IPython.display import display"
   ]
  },
  {
   "cell_type": "code",
   "execution_count": null,
   "metadata": {},
   "outputs": [],
   "source": []
  },
  {
   "cell_type": "markdown",
   "metadata": {},
   "source": [
    "## Load data"
   ]
  },
  {
   "cell_type": "code",
   "execution_count": 10,
   "metadata": {
    "trusted": true
   },
   "outputs": [],
   "source": [
    "df = pd.read_csv('/Users/pauli/Documents/Data/sure_tomorrow/insurance_us.csv')"
   ]
  },
  {
   "cell_type": "markdown",
   "metadata": {},
   "source": [
    "Renamed the columns so that the code looks more consistent with its style."
   ]
  },
  {
   "cell_type": "code",
   "execution_count": 11,
   "metadata": {
    "trusted": true
   },
   "outputs": [],
   "source": [
    "df = df.rename(columns={'Gender': 'gender', 'Age': 'age', 'Salary': 'income', 'Family members': 'family_members', 'Insurance benefits': 'insurance_benefits'})"
   ]
  },
  {
   "cell_type": "code",
   "execution_count": 12,
   "metadata": {
    "trusted": true
   },
   "outputs": [
    {
     "data": {
      "text/html": [
       "<div>\n",
       "<style scoped>\n",
       "    .dataframe tbody tr th:only-of-type {\n",
       "        vertical-align: middle;\n",
       "    }\n",
       "\n",
       "    .dataframe tbody tr th {\n",
       "        vertical-align: top;\n",
       "    }\n",
       "\n",
       "    .dataframe thead th {\n",
       "        text-align: right;\n",
       "    }\n",
       "</style>\n",
       "<table border=\"1\" class=\"dataframe\">\n",
       "  <thead>\n",
       "    <tr style=\"text-align: right;\">\n",
       "      <th></th>\n",
       "      <th>gender</th>\n",
       "      <th>age</th>\n",
       "      <th>income</th>\n",
       "      <th>family_members</th>\n",
       "      <th>insurance_benefits</th>\n",
       "    </tr>\n",
       "  </thead>\n",
       "  <tbody>\n",
       "    <tr>\n",
       "      <th>788</th>\n",
       "      <td>1</td>\n",
       "      <td>30.0</td>\n",
       "      <td>63200.0</td>\n",
       "      <td>1</td>\n",
       "      <td>0</td>\n",
       "    </tr>\n",
       "    <tr>\n",
       "      <th>3717</th>\n",
       "      <td>0</td>\n",
       "      <td>34.0</td>\n",
       "      <td>32700.0</td>\n",
       "      <td>0</td>\n",
       "      <td>0</td>\n",
       "    </tr>\n",
       "    <tr>\n",
       "      <th>2527</th>\n",
       "      <td>1</td>\n",
       "      <td>20.0</td>\n",
       "      <td>37600.0</td>\n",
       "      <td>1</td>\n",
       "      <td>0</td>\n",
       "    </tr>\n",
       "    <tr>\n",
       "      <th>567</th>\n",
       "      <td>1</td>\n",
       "      <td>33.0</td>\n",
       "      <td>58000.0</td>\n",
       "      <td>2</td>\n",
       "      <td>0</td>\n",
       "    </tr>\n",
       "    <tr>\n",
       "      <th>3612</th>\n",
       "      <td>1</td>\n",
       "      <td>39.0</td>\n",
       "      <td>32800.0</td>\n",
       "      <td>5</td>\n",
       "      <td>0</td>\n",
       "    </tr>\n",
       "    <tr>\n",
       "      <th>848</th>\n",
       "      <td>1</td>\n",
       "      <td>32.0</td>\n",
       "      <td>42800.0</td>\n",
       "      <td>2</td>\n",
       "      <td>0</td>\n",
       "    </tr>\n",
       "    <tr>\n",
       "      <th>2812</th>\n",
       "      <td>1</td>\n",
       "      <td>44.0</td>\n",
       "      <td>32600.0</td>\n",
       "      <td>1</td>\n",
       "      <td>1</td>\n",
       "    </tr>\n",
       "    <tr>\n",
       "      <th>3559</th>\n",
       "      <td>0</td>\n",
       "      <td>30.0</td>\n",
       "      <td>46500.0</td>\n",
       "      <td>2</td>\n",
       "      <td>0</td>\n",
       "    </tr>\n",
       "    <tr>\n",
       "      <th>2680</th>\n",
       "      <td>1</td>\n",
       "      <td>41.0</td>\n",
       "      <td>31200.0</td>\n",
       "      <td>1</td>\n",
       "      <td>0</td>\n",
       "    </tr>\n",
       "    <tr>\n",
       "      <th>684</th>\n",
       "      <td>1</td>\n",
       "      <td>52.0</td>\n",
       "      <td>55800.0</td>\n",
       "      <td>1</td>\n",
       "      <td>2</td>\n",
       "    </tr>\n",
       "  </tbody>\n",
       "</table>\n",
       "</div>"
      ],
      "text/plain": [
       "      gender   age   income  family_members  insurance_benefits\n",
       "788        1  30.0  63200.0               1                   0\n",
       "3717       0  34.0  32700.0               0                   0\n",
       "2527       1  20.0  37600.0               1                   0\n",
       "567        1  33.0  58000.0               2                   0\n",
       "3612       1  39.0  32800.0               5                   0\n",
       "848        1  32.0  42800.0               2                   0\n",
       "2812       1  44.0  32600.0               1                   1\n",
       "3559       0  30.0  46500.0               2                   0\n",
       "2680       1  41.0  31200.0               1                   0\n",
       "684        1  52.0  55800.0               1                   2"
      ]
     },
     "execution_count": 12,
     "metadata": {},
     "output_type": "execute_result"
    }
   ],
   "source": [
    "df.sample(10)"
   ]
  },
  {
   "cell_type": "code",
   "execution_count": 13,
   "metadata": {
    "trusted": true
   },
   "outputs": [
    {
     "name": "stdout",
     "output_type": "stream",
     "text": [
      "<class 'pandas.core.frame.DataFrame'>\n",
      "RangeIndex: 5000 entries, 0 to 4999\n",
      "Data columns (total 5 columns):\n",
      " #   Column              Non-Null Count  Dtype  \n",
      "---  ------              --------------  -----  \n",
      " 0   gender              5000 non-null   int64  \n",
      " 1   age                 5000 non-null   float64\n",
      " 2   income              5000 non-null   float64\n",
      " 3   family_members      5000 non-null   int64  \n",
      " 4   insurance_benefits  5000 non-null   int64  \n",
      "dtypes: float64(2), int64(3)\n",
      "memory usage: 195.4 KB\n"
     ]
    }
   ],
   "source": [
    "df.info()"
   ]
  },
  {
   "cell_type": "code",
   "execution_count": 14,
   "metadata": {
    "trusted": true
   },
   "outputs": [],
   "source": [
    "# Change the age type (from float to int):\n",
    "\n",
    "df['age']= df['age'].astype(int)"
   ]
  },
  {
   "cell_type": "code",
   "execution_count": 15,
   "metadata": {
    "trusted": true
   },
   "outputs": [
    {
     "name": "stdout",
     "output_type": "stream",
     "text": [
      "<class 'pandas.core.frame.DataFrame'>\n",
      "RangeIndex: 5000 entries, 0 to 4999\n",
      "Data columns (total 5 columns):\n",
      " #   Column              Non-Null Count  Dtype  \n",
      "---  ------              --------------  -----  \n",
      " 0   gender              5000 non-null   int64  \n",
      " 1   age                 5000 non-null   int64  \n",
      " 2   income              5000 non-null   float64\n",
      " 3   family_members      5000 non-null   int64  \n",
      " 4   insurance_benefits  5000 non-null   int64  \n",
      "dtypes: float64(1), int64(4)\n",
      "memory usage: 195.4 KB\n"
     ]
    }
   ],
   "source": [
    "#Check that the conversion was successful\n",
    "df.info()"
   ]
  },
  {
   "cell_type": "code",
   "execution_count": 16,
   "metadata": {
    "trusted": true
   },
   "outputs": [],
   "source": [
    "# Take a look at the descriptive statistics of the data."
   ]
  },
  {
   "cell_type": "code",
   "execution_count": 17,
   "metadata": {
    "trusted": true
   },
   "outputs": [
    {
     "data": {
      "text/html": [
       "<div>\n",
       "<style scoped>\n",
       "    .dataframe tbody tr th:only-of-type {\n",
       "        vertical-align: middle;\n",
       "    }\n",
       "\n",
       "    .dataframe tbody tr th {\n",
       "        vertical-align: top;\n",
       "    }\n",
       "\n",
       "    .dataframe thead th {\n",
       "        text-align: right;\n",
       "    }\n",
       "</style>\n",
       "<table border=\"1\" class=\"dataframe\">\n",
       "  <thead>\n",
       "    <tr style=\"text-align: right;\">\n",
       "      <th></th>\n",
       "      <th>gender</th>\n",
       "      <th>age</th>\n",
       "      <th>income</th>\n",
       "      <th>family_members</th>\n",
       "      <th>insurance_benefits</th>\n",
       "    </tr>\n",
       "  </thead>\n",
       "  <tbody>\n",
       "    <tr>\n",
       "      <th>count</th>\n",
       "      <td>5000.000000</td>\n",
       "      <td>5000.000000</td>\n",
       "      <td>5000.000000</td>\n",
       "      <td>5000.000000</td>\n",
       "      <td>5000.000000</td>\n",
       "    </tr>\n",
       "    <tr>\n",
       "      <th>mean</th>\n",
       "      <td>0.499000</td>\n",
       "      <td>30.952800</td>\n",
       "      <td>39916.360000</td>\n",
       "      <td>1.194200</td>\n",
       "      <td>0.148000</td>\n",
       "    </tr>\n",
       "    <tr>\n",
       "      <th>std</th>\n",
       "      <td>0.500049</td>\n",
       "      <td>8.440807</td>\n",
       "      <td>9900.083569</td>\n",
       "      <td>1.091387</td>\n",
       "      <td>0.463183</td>\n",
       "    </tr>\n",
       "    <tr>\n",
       "      <th>min</th>\n",
       "      <td>0.000000</td>\n",
       "      <td>18.000000</td>\n",
       "      <td>5300.000000</td>\n",
       "      <td>0.000000</td>\n",
       "      <td>0.000000</td>\n",
       "    </tr>\n",
       "    <tr>\n",
       "      <th>0%</th>\n",
       "      <td>0.000000</td>\n",
       "      <td>18.000000</td>\n",
       "      <td>5300.000000</td>\n",
       "      <td>0.000000</td>\n",
       "      <td>0.000000</td>\n",
       "    </tr>\n",
       "    <tr>\n",
       "      <th>10%</th>\n",
       "      <td>0.000000</td>\n",
       "      <td>20.000000</td>\n",
       "      <td>27200.000000</td>\n",
       "      <td>0.000000</td>\n",
       "      <td>0.000000</td>\n",
       "    </tr>\n",
       "    <tr>\n",
       "      <th>20%</th>\n",
       "      <td>0.000000</td>\n",
       "      <td>23.000000</td>\n",
       "      <td>31700.000000</td>\n",
       "      <td>0.000000</td>\n",
       "      <td>0.000000</td>\n",
       "    </tr>\n",
       "    <tr>\n",
       "      <th>30%</th>\n",
       "      <td>0.000000</td>\n",
       "      <td>25.000000</td>\n",
       "      <td>34700.000000</td>\n",
       "      <td>0.000000</td>\n",
       "      <td>0.000000</td>\n",
       "    </tr>\n",
       "    <tr>\n",
       "      <th>40%</th>\n",
       "      <td>0.000000</td>\n",
       "      <td>28.000000</td>\n",
       "      <td>37400.000000</td>\n",
       "      <td>1.000000</td>\n",
       "      <td>0.000000</td>\n",
       "    </tr>\n",
       "    <tr>\n",
       "      <th>50%</th>\n",
       "      <td>0.000000</td>\n",
       "      <td>30.000000</td>\n",
       "      <td>40200.000000</td>\n",
       "      <td>1.000000</td>\n",
       "      <td>0.000000</td>\n",
       "    </tr>\n",
       "    <tr>\n",
       "      <th>60%</th>\n",
       "      <td>1.000000</td>\n",
       "      <td>33.000000</td>\n",
       "      <td>42500.000000</td>\n",
       "      <td>1.000000</td>\n",
       "      <td>0.000000</td>\n",
       "    </tr>\n",
       "    <tr>\n",
       "      <th>70%</th>\n",
       "      <td>1.000000</td>\n",
       "      <td>35.000000</td>\n",
       "      <td>45100.000000</td>\n",
       "      <td>2.000000</td>\n",
       "      <td>0.000000</td>\n",
       "    </tr>\n",
       "    <tr>\n",
       "      <th>80%</th>\n",
       "      <td>1.000000</td>\n",
       "      <td>38.000000</td>\n",
       "      <td>48200.000000</td>\n",
       "      <td>2.000000</td>\n",
       "      <td>0.000000</td>\n",
       "    </tr>\n",
       "    <tr>\n",
       "      <th>90%</th>\n",
       "      <td>1.000000</td>\n",
       "      <td>43.000000</td>\n",
       "      <td>52500.000000</td>\n",
       "      <td>3.000000</td>\n",
       "      <td>1.000000</td>\n",
       "    </tr>\n",
       "    <tr>\n",
       "      <th>100%</th>\n",
       "      <td>1.000000</td>\n",
       "      <td>65.000000</td>\n",
       "      <td>79000.000000</td>\n",
       "      <td>6.000000</td>\n",
       "      <td>5.000000</td>\n",
       "    </tr>\n",
       "    <tr>\n",
       "      <th>max</th>\n",
       "      <td>1.000000</td>\n",
       "      <td>65.000000</td>\n",
       "      <td>79000.000000</td>\n",
       "      <td>6.000000</td>\n",
       "      <td>5.000000</td>\n",
       "    </tr>\n",
       "  </tbody>\n",
       "</table>\n",
       "</div>"
      ],
      "text/plain": [
       "            gender          age        income  family_members  \\\n",
       "count  5000.000000  5000.000000   5000.000000     5000.000000   \n",
       "mean      0.499000    30.952800  39916.360000        1.194200   \n",
       "std       0.500049     8.440807   9900.083569        1.091387   \n",
       "min       0.000000    18.000000   5300.000000        0.000000   \n",
       "0%        0.000000    18.000000   5300.000000        0.000000   \n",
       "10%       0.000000    20.000000  27200.000000        0.000000   \n",
       "20%       0.000000    23.000000  31700.000000        0.000000   \n",
       "30%       0.000000    25.000000  34700.000000        0.000000   \n",
       "40%       0.000000    28.000000  37400.000000        1.000000   \n",
       "50%       0.000000    30.000000  40200.000000        1.000000   \n",
       "60%       1.000000    33.000000  42500.000000        1.000000   \n",
       "70%       1.000000    35.000000  45100.000000        2.000000   \n",
       "80%       1.000000    38.000000  48200.000000        2.000000   \n",
       "90%       1.000000    43.000000  52500.000000        3.000000   \n",
       "100%      1.000000    65.000000  79000.000000        6.000000   \n",
       "max       1.000000    65.000000  79000.000000        6.000000   \n",
       "\n",
       "       insurance_benefits  \n",
       "count         5000.000000  \n",
       "mean             0.148000  \n",
       "std              0.463183  \n",
       "min              0.000000  \n",
       "0%               0.000000  \n",
       "10%              0.000000  \n",
       "20%              0.000000  \n",
       "30%              0.000000  \n",
       "40%              0.000000  \n",
       "50%              0.000000  \n",
       "60%              0.000000  \n",
       "70%              0.000000  \n",
       "80%              0.000000  \n",
       "90%              1.000000  \n",
       "100%             5.000000  \n",
       "max              5.000000  "
      ]
     },
     "execution_count": 17,
     "metadata": {},
     "output_type": "execute_result"
    }
   ],
   "source": [
    "df.describe(percentiles = np.linspace(0,1,11))"
   ]
  },
  {
   "cell_type": "markdown",
   "metadata": {},
   "source": [
    "There are no missing data, and it can be observed that very few clients have received insurance benefits, since up to the 80th percentile the value is 0. On the other hand, 50% of clients have at least one family member, and only 10% have three or more. Regarding income, 50% of clients earn up to 40,200, and 90% up to 52,500. The difference between the 10th percentile (27,200) and the 90th percentile (52,500) suggests moderate dispersion."
   ]
  },
  {
   "cell_type": "markdown",
   "metadata": {},
   "source": [
    "## EDA."
   ]
  },
  {
   "cell_type": "markdown",
   "metadata": {},
   "source": [
    "Let's quickly check if there are certain customer groups by looking at the pairs chart."
   ]
  },
  {
   "cell_type": "code",
   "execution_count": 18,
   "metadata": {
    "trusted": true
   },
   "outputs": [
    {
     "data": {
      "image/png": "[encoded data removed]",
      "text/plain": [
       "<Figure size 1200x1200 with 30 Axes>"
      ]
     },
     "metadata": {},
     "output_type": "display_data"
    }
   ],
   "source": [
    "g = sns.pairplot(df, kind='hist')\n",
    "g.fig.set_size_inches(12, 12)"
   ]
  },
  {
   "cell_type": "markdown",
   "metadata": {},
   "source": [
    "It's a bit tricky to spot obvious groups (clusters) because it's difficult to combine multiple variables simultaneously (to analyze multivariate distributions). This is where LA and ML can be quite useful."
   ]
  },
  {
   "cell_type": "markdown",
   "metadata": {},
   "source": [
    "# Task 1. Similar Clients"
   ]
  },
  {
   "cell_type": "markdown",
   "metadata": {},
   "source": [
    "In the ML language, it is necessary to develop a procedure that returns the k nearest neighbors (objects) for a given object based on the distance between the objects.\n",
    "We may want to review the following lessons (chapter -> lesson): Distance between vectors -> Euclidean distance\n",
    "- Distance between vectors -> Manhattan distance\n",
    "\n",
    "To solve the task, we can try different distance metrics."
   ]
  },
  {
   "cell_type": "markdown",
   "metadata": {},
   "source": [
    "Write a function that returns the k nearest neighbors for an $n^{th}$ object based on a specified distance metric. This task should not take into account the number of insurance claims received.\n",
    "You can use an existing implementation of scikit-learn's kNN algorithm (see [link](https://scikit-learn.org/stable/modules/generated/sklearn.neighbors.NearestNeighbors.html#sklearn.neighbors.NearestNeighbors)) or your own implementation.\n",
    "Test it for four combinations of two cases: Scaling\n",
    "- the data is unscaled\n",
    "- the data is scaled with the [MaxAbsScaler](https://scikit-learn.org/stable/modules/generated/sklearn.preprocessing.MaxAbsScaler.html)\n",
    "- Distance Metrics\n",
    "- Euclidean\n",
    "- Manhattan\n",
    "\n",
    "Answer these questions: - Does the fact that the data is unscaled affect the kNN algorithm? If so, how does this manifest itself? - How similar are the results when using the Manhattan distance metric (regardless of scaling)?"
   ]
  },
  {
   "cell_type": "code",
   "execution_count": 19,
   "metadata": {
    "trusted": true
   },
   "outputs": [],
   "source": [
    "feature_names = ['gender', 'age', 'income', 'family_members']"
   ]
  },
  {
   "cell_type": "code",
   "execution_count": 20,
   "metadata": {
    "trusted": true
   },
   "outputs": [],
   "source": [
    "def get_knn(df, n, k, metric):\n",
    "    \n",
    "    \"\"\"\n",
    "    Returns the k nearest neighbors\n",
    "\n",
    "    :param df: Pandas DataFrame used to find similar objects within the same location\n",
    "    :param n: Number of objects for which nearest neighbors are found\n",
    "    :param k: Number of nearest neighbors to return\n",
    "    :param metric: Name of the distance metric \"\"\"\n",
    "\n",
    "    nbrs = NearestNeighbors(n_neighbors= n, metric= metric)\n",
    "    nbrs.fit(df)\n",
    "    nbrs_distances, nbrs_indices = nbrs.kneighbors([df.iloc[n][feature_names]], k, return_distance=True)\n",
    "    \n",
    "    df_res = pd.concat([\n",
    "        df.iloc[nbrs_indices[0]], \n",
    "        pd.DataFrame(nbrs_distances.T, index=nbrs_indices[0], columns=['distance'])\n",
    "        ], axis=1)\n",
    "    \n",
    "    return df_res"
   ]
  },
  {
   "cell_type": "markdown",
   "metadata": {},
   "source": [
    "Scale data."
   ]
  },
  {
   "cell_type": "code",
   "execution_count": 21,
   "metadata": {
    "trusted": true
   },
   "outputs": [
    {
     "name": "stderr",
     "output_type": "stream",
     "text": [
      "/var/folders/cq/bs731p7n52x64481gqr1xjvm0000gn/T/ipykernel_29321/760832288.py:6: FutureWarning: Setting an item of incompatible dtype is deprecated and will raise in a future error of pandas. Value '[0.63076923 0.70769231 0.44615385 ... 0.30769231 0.33846154 0.43076923]' has dtype incompatible with int64, please explicitly cast to a compatible dtype first.\n",
      "  df_scaled.loc[:, feature_names] = transformer_mas.transform(df[feature_names].to_numpy())\n",
      "/var/folders/cq/bs731p7n52x64481gqr1xjvm0000gn/T/ipykernel_29321/760832288.py:6: FutureWarning: Setting an item of incompatible dtype is deprecated and will raise in a future error of pandas. Value '[0.16666667 0.16666667 0.         ... 0.33333333 0.5        0.16666667]' has dtype incompatible with int64, please explicitly cast to a compatible dtype first.\n",
      "  df_scaled.loc[:, feature_names] = transformer_mas.transform(df[feature_names].to_numpy())\n"
     ]
    }
   ],
   "source": [
    "feature_names = ['gender', 'age', 'income', 'family_members']\n",
    "\n",
    "transformer_mas = sklearn.preprocessing.MaxAbsScaler().fit(df[feature_names].to_numpy())\n",
    "\n",
    "df_scaled = df.copy()\n",
    "df_scaled.loc[:, feature_names] = transformer_mas.transform(df[feature_names].to_numpy())"
   ]
  },
  {
   "cell_type": "code",
   "execution_count": 22,
   "metadata": {
    "trusted": true
   },
   "outputs": [
    {
     "data": {
      "text/html": [
       "<div>\n",
       "<style scoped>\n",
       "    .dataframe tbody tr th:only-of-type {\n",
       "        vertical-align: middle;\n",
       "    }\n",
       "\n",
       "    .dataframe tbody tr th {\n",
       "        vertical-align: top;\n",
       "    }\n",
       "\n",
       "    .dataframe thead th {\n",
       "        text-align: right;\n",
       "    }\n",
       "</style>\n",
       "<table border=\"1\" class=\"dataframe\">\n",
       "  <thead>\n",
       "    <tr style=\"text-align: right;\">\n",
       "      <th></th>\n",
       "      <th>gender</th>\n",
       "      <th>age</th>\n",
       "      <th>income</th>\n",
       "      <th>family_members</th>\n",
       "      <th>insurance_benefits</th>\n",
       "    </tr>\n",
       "  </thead>\n",
       "  <tbody>\n",
       "    <tr>\n",
       "      <th>4358</th>\n",
       "      <td>0</td>\n",
       "      <td>0.292308</td>\n",
       "      <td>0.544304</td>\n",
       "      <td>0.000000</td>\n",
       "      <td>0</td>\n",
       "    </tr>\n",
       "    <tr>\n",
       "      <th>3805</th>\n",
       "      <td>1</td>\n",
       "      <td>0.292308</td>\n",
       "      <td>0.530380</td>\n",
       "      <td>0.000000</td>\n",
       "      <td>0</td>\n",
       "    </tr>\n",
       "    <tr>\n",
       "      <th>1805</th>\n",
       "      <td>1</td>\n",
       "      <td>0.692308</td>\n",
       "      <td>0.451899</td>\n",
       "      <td>0.166667</td>\n",
       "      <td>1</td>\n",
       "    </tr>\n",
       "    <tr>\n",
       "      <th>3574</th>\n",
       "      <td>1</td>\n",
       "      <td>0.553846</td>\n",
       "      <td>0.513924</td>\n",
       "      <td>0.500000</td>\n",
       "      <td>0</td>\n",
       "    </tr>\n",
       "    <tr>\n",
       "      <th>1903</th>\n",
       "      <td>1</td>\n",
       "      <td>0.338462</td>\n",
       "      <td>0.465823</td>\n",
       "      <td>0.000000</td>\n",
       "      <td>0</td>\n",
       "    </tr>\n",
       "  </tbody>\n",
       "</table>\n",
       "</div>"
      ],
      "text/plain": [
       "      gender       age    income  family_members  insurance_benefits\n",
       "4358       0  0.292308  0.544304        0.000000                   0\n",
       "3805       1  0.292308  0.530380        0.000000                   0\n",
       "1805       1  0.692308  0.451899        0.166667                   1\n",
       "3574       1  0.553846  0.513924        0.500000                   0\n",
       "1903       1  0.338462  0.465823        0.000000                   0"
      ]
     },
     "execution_count": 22,
     "metadata": {},
     "output_type": "execute_result"
    }
   ],
   "source": [
    "df_scaled.sample(5)"
   ]
  },
  {
   "cell_type": "markdown",
   "metadata": {},
   "source": [
    "Now, let's get similar records for a given customer, for each combination"
   ]
  },
  {
   "cell_type": "code",
   "execution_count": 23,
   "metadata": {
    "trusted": true
   },
   "outputs": [
    {
     "name": "stdout",
     "output_type": "stream",
     "text": [
      "Cliente de prueba: \n",
      " gender                1.0\n",
      "age                  28.0\n",
      "income            26100.0\n",
      "family_members        0.0\n",
      "Name: 4, dtype: float64\n"
     ]
    }
   ],
   "source": [
    "# Client 5 is chosen for testing.\n",
    "\n",
    "client_5 = df.iloc[4][feature_names]\n",
    "print('Cliente de prueba: \\n', client_5)"
   ]
  },
  {
   "cell_type": "code",
   "execution_count": 24,
   "metadata": {
    "trusted": true
   },
   "outputs": [
    {
     "name": "stderr",
     "output_type": "stream",
     "text": [
      "/opt/anaconda3/lib/python3.12/site-packages/sklearn/utils/validation.py:2739: UserWarning: X does not have valid feature names, but NearestNeighbors was fitted with feature names\n",
      "  warnings.warn(\n"
     ]
    },
    {
     "data": {
      "text/html": [
       "<div>\n",
       "<style scoped>\n",
       "    .dataframe tbody tr th:only-of-type {\n",
       "        vertical-align: middle;\n",
       "    }\n",
       "\n",
       "    .dataframe tbody tr th {\n",
       "        vertical-align: top;\n",
       "    }\n",
       "\n",
       "    .dataframe thead th {\n",
       "        text-align: right;\n",
       "    }\n",
       "</style>\n",
       "<table border=\"1\" class=\"dataframe\">\n",
       "  <thead>\n",
       "    <tr style=\"text-align: right;\">\n",
       "      <th></th>\n",
       "      <th>gender</th>\n",
       "      <th>age</th>\n",
       "      <th>income</th>\n",
       "      <th>family_members</th>\n",
       "      <th>distance</th>\n",
       "    </tr>\n",
       "  </thead>\n",
       "  <tbody>\n",
       "    <tr>\n",
       "      <th>4</th>\n",
       "      <td>1</td>\n",
       "      <td>28</td>\n",
       "      <td>26100.0</td>\n",
       "      <td>0</td>\n",
       "      <td>0.000000</td>\n",
       "    </tr>\n",
       "    <tr>\n",
       "      <th>2701</th>\n",
       "      <td>1</td>\n",
       "      <td>31</td>\n",
       "      <td>26100.0</td>\n",
       "      <td>3</td>\n",
       "      <td>4.242641</td>\n",
       "    </tr>\n",
       "    <tr>\n",
       "      <th>2773</th>\n",
       "      <td>1</td>\n",
       "      <td>24</td>\n",
       "      <td>26100.0</td>\n",
       "      <td>2</td>\n",
       "      <td>4.472136</td>\n",
       "    </tr>\n",
       "    <tr>\n",
       "      <th>3346</th>\n",
       "      <td>0</td>\n",
       "      <td>34</td>\n",
       "      <td>26100.0</td>\n",
       "      <td>0</td>\n",
       "      <td>6.082763</td>\n",
       "    </tr>\n",
       "    <tr>\n",
       "      <th>4721</th>\n",
       "      <td>1</td>\n",
       "      <td>22</td>\n",
       "      <td>26100.0</td>\n",
       "      <td>2</td>\n",
       "      <td>6.324555</td>\n",
       "    </tr>\n",
       "  </tbody>\n",
       "</table>\n",
       "</div>"
      ],
      "text/plain": [
       "      gender  age   income  family_members  distance\n",
       "4          1   28  26100.0               0  0.000000\n",
       "2701       1   31  26100.0               3  4.242641\n",
       "2773       1   24  26100.0               2  4.472136\n",
       "3346       0   34  26100.0               0  6.082763\n",
       "4721       1   22  26100.0               2  6.324555"
      ]
     },
     "execution_count": 24,
     "metadata": {},
     "output_type": "execute_result"
    }
   ],
   "source": [
    "#Test on unscaled data using Euclidean distance\n",
    "\n",
    "get_knn(df[feature_names], n=4, k=5, metric='euclidean')"
   ]
  },
  {
   "cell_type": "code",
   "execution_count": 25,
   "metadata": {
    "trusted": true
   },
   "outputs": [
    {
     "name": "stderr",
     "output_type": "stream",
     "text": [
      "/opt/anaconda3/lib/python3.12/site-packages/sklearn/utils/validation.py:2739: UserWarning: X does not have valid feature names, but NearestNeighbors was fitted with feature names\n",
      "  warnings.warn(\n"
     ]
    },
    {
     "data": {
      "text/html": [
       "<div>\n",
       "<style scoped>\n",
       "    .dataframe tbody tr th:only-of-type {\n",
       "        vertical-align: middle;\n",
       "    }\n",
       "\n",
       "    .dataframe tbody tr th {\n",
       "        vertical-align: top;\n",
       "    }\n",
       "\n",
       "    .dataframe thead th {\n",
       "        text-align: right;\n",
       "    }\n",
       "</style>\n",
       "<table border=\"1\" class=\"dataframe\">\n",
       "  <thead>\n",
       "    <tr style=\"text-align: right;\">\n",
       "      <th></th>\n",
       "      <th>gender</th>\n",
       "      <th>age</th>\n",
       "      <th>income</th>\n",
       "      <th>family_members</th>\n",
       "      <th>distance</th>\n",
       "    </tr>\n",
       "  </thead>\n",
       "  <tbody>\n",
       "    <tr>\n",
       "      <th>4</th>\n",
       "      <td>1</td>\n",
       "      <td>0.430769</td>\n",
       "      <td>0.330380</td>\n",
       "      <td>0.0</td>\n",
       "      <td>0.000000</td>\n",
       "    </tr>\n",
       "    <tr>\n",
       "      <th>349</th>\n",
       "      <td>1</td>\n",
       "      <td>0.430769</td>\n",
       "      <td>0.322785</td>\n",
       "      <td>0.0</td>\n",
       "      <td>0.007595</td>\n",
       "    </tr>\n",
       "    <tr>\n",
       "      <th>3934</th>\n",
       "      <td>1</td>\n",
       "      <td>0.430769</td>\n",
       "      <td>0.321519</td>\n",
       "      <td>0.0</td>\n",
       "      <td>0.008861</td>\n",
       "    </tr>\n",
       "    <tr>\n",
       "      <th>3665</th>\n",
       "      <td>1</td>\n",
       "      <td>0.430769</td>\n",
       "      <td>0.317722</td>\n",
       "      <td>0.0</td>\n",
       "      <td>0.012658</td>\n",
       "    </tr>\n",
       "    <tr>\n",
       "      <th>1435</th>\n",
       "      <td>1</td>\n",
       "      <td>0.446154</td>\n",
       "      <td>0.331646</td>\n",
       "      <td>0.0</td>\n",
       "      <td>0.015437</td>\n",
       "    </tr>\n",
       "  </tbody>\n",
       "</table>\n",
       "</div>"
      ],
      "text/plain": [
       "      gender       age    income  family_members  distance\n",
       "4          1  0.430769  0.330380             0.0  0.000000\n",
       "349        1  0.430769  0.322785             0.0  0.007595\n",
       "3934       1  0.430769  0.321519             0.0  0.008861\n",
       "3665       1  0.430769  0.317722             0.0  0.012658\n",
       "1435       1  0.446154  0.331646             0.0  0.015437"
      ]
     },
     "execution_count": 25,
     "metadata": {},
     "output_type": "execute_result"
    }
   ],
   "source": [
    "#Test with scaled data using Euclidean distance\n",
    "\n",
    "get_knn(df_scaled[feature_names], n=4, k=5, metric='euclidean')"
   ]
  },
  {
   "cell_type": "code",
   "execution_count": 26,
   "metadata": {
    "trusted": true
   },
   "outputs": [
    {
     "name": "stderr",
     "output_type": "stream",
     "text": [
      "/opt/anaconda3/lib/python3.12/site-packages/sklearn/utils/validation.py:2739: UserWarning: X does not have valid feature names, but NearestNeighbors was fitted with feature names\n",
      "  warnings.warn(\n"
     ]
    },
    {
     "data": {
      "text/html": [
       "<div>\n",
       "<style scoped>\n",
       "    .dataframe tbody tr th:only-of-type {\n",
       "        vertical-align: middle;\n",
       "    }\n",
       "\n",
       "    .dataframe tbody tr th {\n",
       "        vertical-align: top;\n",
       "    }\n",
       "\n",
       "    .dataframe thead th {\n",
       "        text-align: right;\n",
       "    }\n",
       "</style>\n",
       "<table border=\"1\" class=\"dataframe\">\n",
       "  <thead>\n",
       "    <tr style=\"text-align: right;\">\n",
       "      <th></th>\n",
       "      <th>gender</th>\n",
       "      <th>age</th>\n",
       "      <th>income</th>\n",
       "      <th>family_members</th>\n",
       "      <th>distance</th>\n",
       "    </tr>\n",
       "  </thead>\n",
       "  <tbody>\n",
       "    <tr>\n",
       "      <th>4</th>\n",
       "      <td>1</td>\n",
       "      <td>28</td>\n",
       "      <td>26100.0</td>\n",
       "      <td>0</td>\n",
       "      <td>0.0</td>\n",
       "    </tr>\n",
       "    <tr>\n",
       "      <th>2701</th>\n",
       "      <td>1</td>\n",
       "      <td>31</td>\n",
       "      <td>26100.0</td>\n",
       "      <td>3</td>\n",
       "      <td>6.0</td>\n",
       "    </tr>\n",
       "    <tr>\n",
       "      <th>2773</th>\n",
       "      <td>1</td>\n",
       "      <td>24</td>\n",
       "      <td>26100.0</td>\n",
       "      <td>2</td>\n",
       "      <td>6.0</td>\n",
       "    </tr>\n",
       "    <tr>\n",
       "      <th>3346</th>\n",
       "      <td>0</td>\n",
       "      <td>34</td>\n",
       "      <td>26100.0</td>\n",
       "      <td>0</td>\n",
       "      <td>7.0</td>\n",
       "    </tr>\n",
       "    <tr>\n",
       "      <th>4721</th>\n",
       "      <td>1</td>\n",
       "      <td>22</td>\n",
       "      <td>26100.0</td>\n",
       "      <td>2</td>\n",
       "      <td>8.0</td>\n",
       "    </tr>\n",
       "  </tbody>\n",
       "</table>\n",
       "</div>"
      ],
      "text/plain": [
       "      gender  age   income  family_members  distance\n",
       "4          1   28  26100.0               0       0.0\n",
       "2701       1   31  26100.0               3       6.0\n",
       "2773       1   24  26100.0               2       6.0\n",
       "3346       0   34  26100.0               0       7.0\n",
       "4721       1   22  26100.0               2       8.0"
      ]
     },
     "execution_count": 26,
     "metadata": {},
     "output_type": "execute_result"
    }
   ],
   "source": [
    "# Test on unscaled data using the Manhattan distance\n",
    "\n",
    "get_knn(df[feature_names], n=4, k=5, metric='manhattan')"
   ]
  },
  {
   "cell_type": "code",
   "execution_count": 27,
   "metadata": {
    "trusted": true
   },
   "outputs": [
    {
     "name": "stderr",
     "output_type": "stream",
     "text": [
      "/opt/anaconda3/lib/python3.12/site-packages/sklearn/utils/validation.py:2739: UserWarning: X does not have valid feature names, but NearestNeighbors was fitted with feature names\n",
      "  warnings.warn(\n"
     ]
    },
    {
     "data": {
      "text/html": [
       "<div>\n",
       "<style scoped>\n",
       "    .dataframe tbody tr th:only-of-type {\n",
       "        vertical-align: middle;\n",
       "    }\n",
       "\n",
       "    .dataframe tbody tr th {\n",
       "        vertical-align: top;\n",
       "    }\n",
       "\n",
       "    .dataframe thead th {\n",
       "        text-align: right;\n",
       "    }\n",
       "</style>\n",
       "<table border=\"1\" class=\"dataframe\">\n",
       "  <thead>\n",
       "    <tr style=\"text-align: right;\">\n",
       "      <th></th>\n",
       "      <th>gender</th>\n",
       "      <th>age</th>\n",
       "      <th>income</th>\n",
       "      <th>family_members</th>\n",
       "      <th>distance</th>\n",
       "    </tr>\n",
       "  </thead>\n",
       "  <tbody>\n",
       "    <tr>\n",
       "      <th>4</th>\n",
       "      <td>1</td>\n",
       "      <td>0.430769</td>\n",
       "      <td>0.330380</td>\n",
       "      <td>0.0</td>\n",
       "      <td>0.000000</td>\n",
       "    </tr>\n",
       "    <tr>\n",
       "      <th>349</th>\n",
       "      <td>1</td>\n",
       "      <td>0.430769</td>\n",
       "      <td>0.322785</td>\n",
       "      <td>0.0</td>\n",
       "      <td>0.007595</td>\n",
       "    </tr>\n",
       "    <tr>\n",
       "      <th>3934</th>\n",
       "      <td>1</td>\n",
       "      <td>0.430769</td>\n",
       "      <td>0.321519</td>\n",
       "      <td>0.0</td>\n",
       "      <td>0.008861</td>\n",
       "    </tr>\n",
       "    <tr>\n",
       "      <th>3665</th>\n",
       "      <td>1</td>\n",
       "      <td>0.430769</td>\n",
       "      <td>0.317722</td>\n",
       "      <td>0.0</td>\n",
       "      <td>0.012658</td>\n",
       "    </tr>\n",
       "    <tr>\n",
       "      <th>1435</th>\n",
       "      <td>1</td>\n",
       "      <td>0.446154</td>\n",
       "      <td>0.331646</td>\n",
       "      <td>0.0</td>\n",
       "      <td>0.016650</td>\n",
       "    </tr>\n",
       "  </tbody>\n",
       "</table>\n",
       "</div>"
      ],
      "text/plain": [
       "      gender       age    income  family_members  distance\n",
       "4          1  0.430769  0.330380             0.0  0.000000\n",
       "349        1  0.430769  0.322785             0.0  0.007595\n",
       "3934       1  0.430769  0.321519             0.0  0.008861\n",
       "3665       1  0.430769  0.317722             0.0  0.012658\n",
       "1435       1  0.446154  0.331646             0.0  0.016650"
      ]
     },
     "execution_count": 27,
     "metadata": {},
     "output_type": "execute_result"
    }
   ],
   "source": [
    "#Test with scaled data using Manhattan distance\n",
    "\n",
    "get_knn(df_scaled[feature_names], n=4, k=5, metric='manhattan')"
   ]
  },
  {
   "cell_type": "markdown",
   "metadata": {},
   "source": [
    "**Does the fact that the data is not scaled affect the kNN algorithm? If so, how does it manifest itself?**\n",
    "\n",
    "Yes, it does, especially with the Euclidean distance, which is sensitive to feature values. If one variable has much larger values ​​than another (e.g., income versus age), it will dominate the overall distance.\n",
    "This is not as pronounced with the Manhattan distance."
   ]
  },
  {
   "cell_type": "markdown",
   "metadata": {},
   "source": [
    "**How ​​similar are the results when using the Manhattan distance metric (regardless of scaling)?**\n",
    "\n",
    "The Manhattan distance is less affected by scaling and typically produces similar results with or without normalization."
   ]
  },
  {
   "cell_type": "markdown",
   "metadata": {},
   "source": [
    "# Task 2. Is the client likely to receive an insurance benefit?"
   ]
  },
  {
   "cell_type": "markdown",
   "metadata": {},
   "source": [
    "In terms of machine learning we can consider it as a binary classification task."
   ]
  },
  {
   "cell_type": "markdown",
   "metadata": {},
   "source": [
    "With an `insurance_benefits` value greater than zero as your target, evaluate whether the kNN classification approach can perform better than the dummy model.\n",
    "\n",
    "Divide all the data for the training/testing stages using a 70:30 ratio."
   ]
  },
  {
   "cell_type": "code",
   "execution_count": 28,
   "metadata": {
    "trusted": true
   },
   "outputs": [
    {
     "data": {
      "text/html": [
       "<div>\n",
       "<style scoped>\n",
       "    .dataframe tbody tr th:only-of-type {\n",
       "        vertical-align: middle;\n",
       "    }\n",
       "\n",
       "    .dataframe tbody tr th {\n",
       "        vertical-align: top;\n",
       "    }\n",
       "\n",
       "    .dataframe thead th {\n",
       "        text-align: right;\n",
       "    }\n",
       "</style>\n",
       "<table border=\"1\" class=\"dataframe\">\n",
       "  <thead>\n",
       "    <tr style=\"text-align: right;\">\n",
       "      <th></th>\n",
       "      <th>gender</th>\n",
       "      <th>age</th>\n",
       "      <th>income</th>\n",
       "      <th>family_members</th>\n",
       "      <th>insurance_benefits</th>\n",
       "      <th>insurance_benefits_received</th>\n",
       "    </tr>\n",
       "  </thead>\n",
       "  <tbody>\n",
       "    <tr>\n",
       "      <th>0</th>\n",
       "      <td>1</td>\n",
       "      <td>41</td>\n",
       "      <td>49600.0</td>\n",
       "      <td>1</td>\n",
       "      <td>0</td>\n",
       "      <td>0</td>\n",
       "    </tr>\n",
       "    <tr>\n",
       "      <th>1</th>\n",
       "      <td>0</td>\n",
       "      <td>46</td>\n",
       "      <td>38000.0</td>\n",
       "      <td>1</td>\n",
       "      <td>1</td>\n",
       "      <td>1</td>\n",
       "    </tr>\n",
       "    <tr>\n",
       "      <th>2</th>\n",
       "      <td>0</td>\n",
       "      <td>29</td>\n",
       "      <td>21000.0</td>\n",
       "      <td>0</td>\n",
       "      <td>0</td>\n",
       "      <td>0</td>\n",
       "    </tr>\n",
       "    <tr>\n",
       "      <th>3</th>\n",
       "      <td>0</td>\n",
       "      <td>21</td>\n",
       "      <td>41700.0</td>\n",
       "      <td>2</td>\n",
       "      <td>0</td>\n",
       "      <td>0</td>\n",
       "    </tr>\n",
       "    <tr>\n",
       "      <th>4</th>\n",
       "      <td>1</td>\n",
       "      <td>28</td>\n",
       "      <td>26100.0</td>\n",
       "      <td>0</td>\n",
       "      <td>0</td>\n",
       "      <td>0</td>\n",
       "    </tr>\n",
       "  </tbody>\n",
       "</table>\n",
       "</div>"
      ],
      "text/plain": [
       "   gender  age   income  family_members  insurance_benefits  \\\n",
       "0       1   41  49600.0               1                   0   \n",
       "1       0   46  38000.0               1                   1   \n",
       "2       0   29  21000.0               0                   0   \n",
       "3       0   21  41700.0               2                   0   \n",
       "4       1   28  26100.0               0                   0   \n",
       "\n",
       "   insurance_benefits_received  \n",
       "0                            0  \n",
       "1                            1  \n",
       "2                            0  \n",
       "3                            0  \n",
       "4                            0  "
      ]
     },
     "execution_count": 28,
     "metadata": {},
     "output_type": "execute_result"
    }
   ],
   "source": [
    "# calculate the target\n",
    "\n",
    "# Add a new column and convert it to binary.\n",
    "df['insurance_benefits_received'] = np.where(df['insurance_benefits'] > 0, 1, 0) \n",
    "\n",
    "df.head()"
   ]
  },
  {
   "cell_type": "code",
   "execution_count": 29,
   "metadata": {
    "trusted": true
   },
   "outputs": [
    {
     "data": {
      "text/plain": [
       "insurance_benefits_received\n",
       "0    4436\n",
       "1     564\n",
       "Name: count, dtype: int64"
      ]
     },
     "execution_count": 29,
     "metadata": {},
     "output_type": "execute_result"
    }
   ],
   "source": [
    "# check for class imbalance with value_counts()\n",
    "df['insurance_benefits_received'].value_counts()"
   ]
  },
  {
   "cell_type": "code",
   "execution_count": 30,
   "metadata": {
    "trusted": true
   },
   "outputs": [],
   "source": [
    "#Define and split the dataset\n",
    "\n",
    "X = df.drop(columns=['insurance_benefits_received'])  \n",
    "y = df['insurance_benefits_received']  \n",
    "\n",
    "X_train, X_test, y_train, y_test = train_test_split(X, y, test_size=0.3, random_state=15, stratify=y)"
   ]
  },
  {
   "cell_type": "code",
   "execution_count": 31,
   "metadata": {
    "trusted": true
   },
   "outputs": [],
   "source": [
    "# Scale data\n",
    "scaler = MaxAbsScaler()\n",
    "X_train_scaled = scaler.fit_transform(X_train)\n",
    "X_test_scaled = scaler.transform(X_test)"
   ]
  },
  {
   "cell_type": "markdown",
   "metadata": {},
   "source": [
    "The only data that is scaled is numerical values, in this case the target is a categorical variable, which is why it was not scaled."
   ]
  },
  {
   "cell_type": "markdown",
   "metadata": {},
   "source": [
    "**We trained a KNN classifier with values ​​from k=1 to 10 and evaluated its performance with the F1-score metric on the original and scaled data**"
   ]
  },
  {
   "cell_type": "code",
   "execution_count": 32,
   "metadata": {
    "trusted": true
   },
   "outputs": [
    {
     "name": "stdout",
     "output_type": "stream",
     "text": [
      "K=1: F1=0.6574 , F1 Scaled=1.0000\n",
      "K=2: F1=0.3909 , F1 Scaled=1.0000\n",
      "K=3: F1=0.4237 , F1 Scaled=1.0000\n",
      "K=4: F1=0.2383 , F1 Scaled=0.9970\n",
      "K=5: F1=0.2513 , F1 Scaled=1.0000\n",
      "K=6: F1=0.1006 , F1 Scaled=0.9970\n",
      "K=7: F1=0.1209 , F1 Scaled=1.0000\n",
      "K=8: F1=0.0575 , F1 Scaled=1.0000\n",
      "K=9: F1=0.0682 , F1 Scaled=1.0000\n",
      "K=10: F1=0.0000 , F1 Scaled=0.9970\n"
     ]
    }
   ],
   "source": [
    "f1_scores = []\n",
    "f1_scores_scaled = []\n",
    "\n",
    "for k in range(1, 11):\n",
    "    knn = KNeighborsClassifier(n_neighbors=k)\n",
    "    \n",
    "    # Train and evaluate with original data\n",
    "    knn.fit(X_train, y_train)\n",
    "    y_pred_original = knn.predict(X_test)\n",
    "    f1_scores.append(f1_score(y_test, y_pred_original))\n",
    "\n",
    "    # Train and evaluate with scaled data\n",
    "    knn.fit(X_train_scaled, y_train)\n",
    "    y_pred_scaled = knn.predict(X_test_scaled)\n",
    "    f1_scores_scaled.append(f1_score(y_test, y_pred_scaled))\n",
    "\n",
    "# Show results\n",
    "for k in range(1, 11):\n",
    "    print(f\"K={k}: F1={f1_scores[k-1]:.4f} , F1 Scaled={f1_scores_scaled[k-1]:.4f}\")"
   ]
  },
  {
   "cell_type": "markdown",
   "metadata": {},
   "source": [
    "The F1 with the original data decreases further as the number of K neighbors increases, and with the scaled data it remains consistent at 1 or very close to 1, the difference is not considerable."
   ]
  },
  {
   "cell_type": "markdown",
   "metadata": {},
   "source": [
    "**Building a Random Model**"
   ]
  },
  {
   "cell_type": "code",
   "execution_count": 33,
   "metadata": {
    "trusted": true
   },
   "outputs": [],
   "source": [
    "model = KNeighborsClassifier(n_neighbors=2, weights='distance',metric='euclidean',p=2)\n",
    "model.fit(X_train, y_train)\n",
    "        \n",
    "predictions = model.predict(X_test)"
   ]
  },
  {
   "cell_type": "code",
   "execution_count": 34,
   "metadata": {
    "trusted": true
   },
   "outputs": [],
   "source": [
    "def eval_classifier(y_true, y_pred):\n",
    "    \n",
    "    f1_score = sklearn.metrics.f1_score(y_true, y_pred)\n",
    "    print(f'F1: {f1_score:.2f}')\n",
    "    \n",
    "# If you have any problems with the following line, restart the kernel and run the notebook again.\n",
    "\n",
    "    cm = sklearn.metrics.confusion_matrix(y_true, y_pred, normalize='all')\n",
    "    print('Confusion matrix')\n",
    "    print(cm)"
   ]
  },
  {
   "cell_type": "code",
   "execution_count": 35,
   "metadata": {
    "trusted": true
   },
   "outputs": [],
   "source": [
    "# generate the output of a random model\n",
    "\n",
    "def rnd_model_predict(P, size, seed=42):\n",
    "\n",
    "    rng = np.random.default_rng(seed=seed)\n",
    "    return rng.binomial(n=1, p=P, size=size)"
   ]
  },
  {
   "cell_type": "code",
   "execution_count": 36,
   "metadata": {
    "trusted": true
   },
   "outputs": [
    {
     "name": "stdout",
     "output_type": "stream",
     "text": [
      "Probabilidad: 0.00\n",
      "F1: 0.00\n",
      "Confusion matrix\n",
      "[[0.8872 0.    ]\n",
      " [0.1128 0.    ]]\n",
      "\n",
      "Probabilidad: 0.11\n",
      "F1: 0.12\n",
      "Confusion matrix\n",
      "[[0.7914 0.0958]\n",
      " [0.0994 0.0134]]\n",
      "\n",
      "Probabilidad: 0.50\n",
      "F1: 0.20\n",
      "Confusion matrix\n",
      "[[0.456  0.4312]\n",
      " [0.053  0.0598]]\n",
      "\n",
      "Probabilidad: 1.00\n",
      "F1: 0.20\n",
      "Confusion matrix\n",
      "[[0.     0.8872]\n",
      " [0.     0.1128]]\n",
      "\n"
     ]
    }
   ],
   "source": [
    "for P in [0, df['insurance_benefits_received'].sum() / len(df), 0.5, 1]:\n",
    "\n",
    "    print(f'Probabilidad: {P:.2f}')\n",
    "    y_pred_rnd = rnd_model_predict(P, df.shape[0], seed=42)\n",
    "        \n",
    "    eval_classifier(df['insurance_benefits_received'], y_pred_rnd)\n",
    "    \n",
    "    print()"
   ]
  },
  {
   "cell_type": "markdown",
   "metadata": {},
   "source": [
    "For each of the probabilities, the F1 value is quite low, the highest being 0.2, thus demonstrating that the Nearest Neighbors model is much more effective in this case."
   ]
  },
  {
   "cell_type": "markdown",
   "metadata": {},
   "source": [
    "# Task 3. Regression (with linear regression)"
   ]
  },
  {
   "cell_type": "markdown",
   "metadata": {},
   "source": [
    "Using `insurance_benefits` as the target, evaluate what the RMSE would be from a linear regression model."
   ]
  },
  {
   "cell_type": "markdown",
   "metadata": {},
   "source": [
    "Build your own implementation of linear regression. To do this, recall how the solution to the linear regression problem is formulated in terms of LA. Check the RMSE for both the original and scaled data. Can you see any differences in the RMSE for these two cases?\n",
    "\n",
    "Let's denote $X$: feature matrix; Each row is a case, each column is a feature, the first column is made up of units - $y$ — target (a vector) - $\\hat{y}$ — estimated target (a vector) - $w$ — weight vector\n",
    "The task of linear regression in the language of matrices can be formulated as follows:\n",
    "$$\n",
    "y = Xw\n",
    "$$\n",
    "\n",
    "The training objective is then to find that $w$ w that minimizes the L2 distance (MSE) between $Xw$ and $y$:\n",
    "\n",
    "$$\n",
    "\\min_w d_2(Xw, y) \\quad \\text{or} \\quad \\min_w \\text{MSE}(Xw, y)\n",
    "$$\n",
    "\n",
    "It seems that there is an analytical solution to the above:\n",
    "$$\n",
    "w = (X^T X)^{-1} X^T y\n",
    "$$\n",
    "\n",
    "The above formula can be used to find the weights $w$ and the latter can be used to calculate the predicted values.\n",
    "$$\n",
    "\\hat{y} = X_{val}w\n",
    "$$"
   ]
  },
  {
   "cell_type": "markdown",
   "metadata": {},
   "source": [
    "**Split all data into the training/testing stages using a 70:30 ratio. Use the RECM metric to evaluate the model.**"
   ]
  },
  {
   "cell_type": "code",
   "execution_count": 37,
   "metadata": {
    "trusted": true
   },
   "outputs": [],
   "source": [
    "class MyLinearRegression:\n",
    "    \n",
    "    def __init__(self):\n",
    "        \n",
    "        self.weights = None\n",
    "    \n",
    "    def fit(self, X, y):\n",
    "        \n",
    "        # add units\n",
    "        X2 = np.append(np.ones([len(X), 1]), X, axis=1)\n",
    "        self.weights = (np.linalg.inv(X2.T @ X2) @X2.T) @ y\n",
    "\n",
    "    def predict(self, X):\n",
    "        \n",
    "        # add units\n",
    "        X2 = np.append(np.ones([len(X), 1]), X, axis=1)\n",
    "        y_pred = X2.dot(self.weights)\n",
    "        \n",
    "        return y_pred"
   ]
  },
  {
   "cell_type": "code",
   "execution_count": 38,
   "metadata": {
    "trusted": true
   },
   "outputs": [],
   "source": [
    "def eval_regressor(y_true, y_pred):\n",
    "    \n",
    "    rmse = math.sqrt(sklearn.metrics.mean_squared_error(y_true, y_pred))\n",
    "    print(f'RMSE: {rmse:.2f}')\n",
    "    \n",
    "    r2_score = math.sqrt(sklearn.metrics.r2_score(y_true, y_pred))\n",
    "    print(f'R2: {r2_score:.2f}')    "
   ]
  },
  {
   "cell_type": "code",
   "execution_count": 39,
   "metadata": {
    "trusted": true
   },
   "outputs": [
    {
     "name": "stdout",
     "output_type": "stream",
     "text": [
      "[-9.43539012e-01  3.57495491e-02  1.64272726e-02 -2.60743659e-07\n",
      " -1.16902127e-02]\n",
      "RMSE: 0.34\n",
      "R2: 0.66\n"
     ]
    }
   ],
   "source": [
    "#RMSE Calculation Original Data\n",
    "\n",
    "X = df[['age', 'gender', 'income', 'family_members']].to_numpy()\n",
    "y = df['insurance_benefits'].to_numpy()\n",
    "\n",
    "X_train, X_test, y_train, y_test = train_test_split(X, y, test_size=0.3, random_state=12345)\n",
    "\n",
    "lr = MyLinearRegression()\n",
    "\n",
    "lr.fit(X_train, y_train)\n",
    "print(lr.weights)\n",
    "\n",
    "y_test_pred = lr.predict(X_test)\n",
    "eval_regressor(y_test, y_test_pred)"
   ]
  },
  {
   "cell_type": "code",
   "execution_count": 40,
   "metadata": {
    "trusted": true
   },
   "outputs": [
    {
     "name": "stdout",
     "output_type": "stream",
     "text": [
      "[-0.94353901  2.32372069  0.01642727 -0.02059875 -0.07014128]\n",
      "RMSE: 0.34\n",
      "R2: 0.66\n"
     ]
    }
   ],
   "source": [
    "#RMSE calculation with Scaled data\n",
    "\n",
    "X_train_scaled = scaler.fit_transform(X_train)\n",
    "X_test_scaled = scaler.transform(X_test)\n",
    "\n",
    "lr = MyLinearRegression()\n",
    "\n",
    "lr.fit(X_train_scaled, y_train)\n",
    "print(lr.weights)\n",
    "\n",
    "y_test_pred = lr.predict(X_test_scaled)\n",
    "eval_regressor(y_test, y_test_pred)\n",
    "\n"
   ]
  },
  {
   "cell_type": "markdown",
   "metadata": {},
   "source": [
    "In this case, no difference is observed in the results with the original data and the scaled data, which could be due to the fact that it is a linear regression, since the distance element that is found in KNN is not present."
   ]
  },
  {
   "cell_type": "markdown",
   "metadata": {},
   "source": [
    "# Task 4. Obfuscate data"
   ]
  },
  {
   "cell_type": "markdown",
   "metadata": {},
   "source": [
    "The best way to obfuscate the data is by multiplying the numerical features (remember, they can be thought of as the matrix $X$) by an invertible matrix $P$.\n",
    "\n",
    "$$\n",
    "X' = X \\times P\n",
    "$$\n",
    "\n",
    "Try this and see what the feature values ​​will look like after the transformation. By the way, the invertibility property is important here, so make sure $P$ is actually invertible.\n",
    "\n",
    "You can review the lesson 'Matrices and Matrix Operations -> Matrix Multiplication' to review the matrix multiplication rule and its implementation with NumPy."
   ]
  },
  {
   "cell_type": "code",
   "execution_count": 41,
   "metadata": {
    "trusted": true
   },
   "outputs": [],
   "source": [
    "personal_info_column_list = ['gender', 'age', 'income', 'family_members']\n",
    "df_pn = df[personal_info_column_list]"
   ]
  },
  {
   "cell_type": "code",
   "execution_count": 42,
   "metadata": {
    "trusted": true
   },
   "outputs": [],
   "source": [
    "X = df_pn.to_numpy()"
   ]
  },
  {
   "cell_type": "markdown",
   "metadata": {},
   "source": [
    "Generate a random matrix $P$."
   ]
  },
  {
   "cell_type": "code",
   "execution_count": 43,
   "metadata": {
    "trusted": true
   },
   "outputs": [],
   "source": [
    "rng = np.random.default_rng(seed=42)\n",
    "P = rng.random(size=(X.shape[1], X.shape[1]))"
   ]
  },
  {
   "cell_type": "markdown",
   "metadata": {},
   "source": [
    "Check that the matrix P is invertible"
   ]
  },
  {
   "cell_type": "code",
   "execution_count": 44,
   "metadata": {
    "trusted": true
   },
   "outputs": [
    {
     "data": {
      "text/html": [
       "<div>\n",
       "<style scoped>\n",
       "    .dataframe tbody tr th:only-of-type {\n",
       "        vertical-align: middle;\n",
       "    }\n",
       "\n",
       "    .dataframe tbody tr th {\n",
       "        vertical-align: top;\n",
       "    }\n",
       "\n",
       "    .dataframe thead th {\n",
       "        text-align: right;\n",
       "    }\n",
       "</style>\n",
       "<table border=\"1\" class=\"dataframe\">\n",
       "  <thead>\n",
       "    <tr style=\"text-align: right;\">\n",
       "      <th></th>\n",
       "      <th>0</th>\n",
       "      <th>1</th>\n",
       "      <th>2</th>\n",
       "      <th>3</th>\n",
       "    </tr>\n",
       "  </thead>\n",
       "  <tbody>\n",
       "    <tr>\n",
       "      <th>0</th>\n",
       "      <td>6359.715273</td>\n",
       "      <td>22380.404676</td>\n",
       "      <td>18424.090742</td>\n",
       "      <td>46000.696690</td>\n",
       "    </tr>\n",
       "    <tr>\n",
       "      <th>1</th>\n",
       "      <td>4873.294065</td>\n",
       "      <td>17160.367030</td>\n",
       "      <td>14125.780761</td>\n",
       "      <td>35253.455773</td>\n",
       "    </tr>\n",
       "    <tr>\n",
       "      <th>2</th>\n",
       "      <td>2693.117429</td>\n",
       "      <td>9486.397744</td>\n",
       "      <td>7808.831560</td>\n",
       "      <td>19484.860631</td>\n",
       "    </tr>\n",
       "    <tr>\n",
       "      <th>3</th>\n",
       "      <td>5345.603937</td>\n",
       "      <td>18803.227203</td>\n",
       "      <td>15479.148373</td>\n",
       "      <td>38663.061863</td>\n",
       "    </tr>\n",
       "    <tr>\n",
       "      <th>4</th>\n",
       "      <td>3347.176735</td>\n",
       "      <td>11782.829283</td>\n",
       "      <td>9699.998942</td>\n",
       "      <td>24211.273378</td>\n",
       "    </tr>\n",
       "    <tr>\n",
       "      <th>...</th>\n",
       "      <td>...</td>\n",
       "      <td>...</td>\n",
       "      <td>...</td>\n",
       "      <td>...</td>\n",
       "    </tr>\n",
       "    <tr>\n",
       "      <th>4995</th>\n",
       "      <td>4577.581382</td>\n",
       "      <td>16107.740932</td>\n",
       "      <td>13259.688205</td>\n",
       "      <td>33107.974380</td>\n",
       "    </tr>\n",
       "    <tr>\n",
       "      <th>4996</th>\n",
       "      <td>6717.000247</td>\n",
       "      <td>23634.217067</td>\n",
       "      <td>19456.138634</td>\n",
       "      <td>48589.438841</td>\n",
       "    </tr>\n",
       "    <tr>\n",
       "      <th>4997</th>\n",
       "      <td>4346.223425</td>\n",
       "      <td>15289.241265</td>\n",
       "      <td>12586.162644</td>\n",
       "      <td>31433.508886</td>\n",
       "    </tr>\n",
       "    <tr>\n",
       "      <th>4998</th>\n",
       "      <td>4194.093242</td>\n",
       "      <td>14751.991024</td>\n",
       "      <td>12144.029306</td>\n",
       "      <td>30323.887634</td>\n",
       "    </tr>\n",
       "    <tr>\n",
       "      <th>4999</th>\n",
       "      <td>5205.468274</td>\n",
       "      <td>18314.248144</td>\n",
       "      <td>15077.013708</td>\n",
       "      <td>37649.592955</td>\n",
       "    </tr>\n",
       "  </tbody>\n",
       "</table>\n",
       "<p>5000 rows × 4 columns</p>\n",
       "</div>"
      ],
      "text/plain": [
       "                0             1             2             3\n",
       "0     6359.715273  22380.404676  18424.090742  46000.696690\n",
       "1     4873.294065  17160.367030  14125.780761  35253.455773\n",
       "2     2693.117429   9486.397744   7808.831560  19484.860631\n",
       "3     5345.603937  18803.227203  15479.148373  38663.061863\n",
       "4     3347.176735  11782.829283   9699.998942  24211.273378\n",
       "...           ...           ...           ...           ...\n",
       "4995  4577.581382  16107.740932  13259.688205  33107.974380\n",
       "4996  6717.000247  23634.217067  19456.138634  48589.438841\n",
       "4997  4346.223425  15289.241265  12586.162644  31433.508886\n",
       "4998  4194.093242  14751.991024  12144.029306  30323.887634\n",
       "4999  5205.468274  18314.248144  15077.013708  37649.592955\n",
       "\n",
       "[5000 rows x 4 columns]"
      ]
     },
     "execution_count": 44,
     "metadata": {},
     "output_type": "execute_result"
    }
   ],
   "source": [
    "invertible= pd.DataFrame(X @ P)\n",
    "invertible"
   ]
  },
  {
   "cell_type": "markdown",
   "metadata": {},
   "source": [
    "Can you guess the age or income of the customers after the transformation?"
   ]
  },
  {
   "cell_type": "markdown",
   "metadata": {},
   "source": [
    "No, after the transformation, you cannot directly predict the age or income of customers because the original values ​​have been linearly mixed and combined with all the other characteristics."
   ]
  },
  {
   "cell_type": "markdown",
   "metadata": {},
   "source": [
    "Can you recover the original data from $X'$ if you know $P$? Try checking this through calculations by moving $P$ from the right side of the formula above to the left. In this case, the rules of matrix multiplication are really useful."
   ]
  },
  {
   "cell_type": "code",
   "execution_count": 45,
   "metadata": {
    "trusted": true
   },
   "outputs": [
    {
     "data": {
      "text/html": [
       "<div>\n",
       "<style scoped>\n",
       "    .dataframe tbody tr th:only-of-type {\n",
       "        vertical-align: middle;\n",
       "    }\n",
       "\n",
       "    .dataframe tbody tr th {\n",
       "        vertical-align: top;\n",
       "    }\n",
       "\n",
       "    .dataframe thead th {\n",
       "        text-align: right;\n",
       "    }\n",
       "</style>\n",
       "<table border=\"1\" class=\"dataframe\">\n",
       "  <thead>\n",
       "    <tr style=\"text-align: right;\">\n",
       "      <th></th>\n",
       "      <th>0</th>\n",
       "      <th>1</th>\n",
       "      <th>2</th>\n",
       "      <th>3</th>\n",
       "    </tr>\n",
       "  </thead>\n",
       "  <tbody>\n",
       "    <tr>\n",
       "      <th>0</th>\n",
       "      <td>1.000000e+00</td>\n",
       "      <td>41.0</td>\n",
       "      <td>49600.0</td>\n",
       "      <td>1.000000e+00</td>\n",
       "    </tr>\n",
       "    <tr>\n",
       "      <th>1</th>\n",
       "      <td>1.645035e-12</td>\n",
       "      <td>46.0</td>\n",
       "      <td>38000.0</td>\n",
       "      <td>1.000000e+00</td>\n",
       "    </tr>\n",
       "    <tr>\n",
       "      <th>2</th>\n",
       "      <td>9.255612e-13</td>\n",
       "      <td>29.0</td>\n",
       "      <td>21000.0</td>\n",
       "      <td>1.419408e-12</td>\n",
       "    </tr>\n",
       "    <tr>\n",
       "      <th>3</th>\n",
       "      <td>-1.625635e-12</td>\n",
       "      <td>21.0</td>\n",
       "      <td>41700.0</td>\n",
       "      <td>2.000000e+00</td>\n",
       "    </tr>\n",
       "    <tr>\n",
       "      <th>4</th>\n",
       "      <td>1.000000e+00</td>\n",
       "      <td>28.0</td>\n",
       "      <td>26100.0</td>\n",
       "      <td>4.917514e-13</td>\n",
       "    </tr>\n",
       "    <tr>\n",
       "      <th>...</th>\n",
       "      <td>...</td>\n",
       "      <td>...</td>\n",
       "      <td>...</td>\n",
       "      <td>...</td>\n",
       "    </tr>\n",
       "    <tr>\n",
       "      <th>4995</th>\n",
       "      <td>3.380258e-12</td>\n",
       "      <td>28.0</td>\n",
       "      <td>35700.0</td>\n",
       "      <td>2.000000e+00</td>\n",
       "    </tr>\n",
       "    <tr>\n",
       "      <th>4996</th>\n",
       "      <td>1.288276e-12</td>\n",
       "      <td>34.0</td>\n",
       "      <td>52400.0</td>\n",
       "      <td>1.000000e+00</td>\n",
       "    </tr>\n",
       "    <tr>\n",
       "      <th>4997</th>\n",
       "      <td>3.872218e-12</td>\n",
       "      <td>20.0</td>\n",
       "      <td>33900.0</td>\n",
       "      <td>2.000000e+00</td>\n",
       "    </tr>\n",
       "    <tr>\n",
       "      <th>4998</th>\n",
       "      <td>1.000000e+00</td>\n",
       "      <td>22.0</td>\n",
       "      <td>32700.0</td>\n",
       "      <td>3.000000e+00</td>\n",
       "    </tr>\n",
       "    <tr>\n",
       "      <th>4999</th>\n",
       "      <td>1.000000e+00</td>\n",
       "      <td>28.0</td>\n",
       "      <td>40600.0</td>\n",
       "      <td>1.000000e+00</td>\n",
       "    </tr>\n",
       "  </tbody>\n",
       "</table>\n",
       "<p>5000 rows × 4 columns</p>\n",
       "</div>"
      ],
      "text/plain": [
       "                 0     1        2             3\n",
       "0     1.000000e+00  41.0  49600.0  1.000000e+00\n",
       "1     1.645035e-12  46.0  38000.0  1.000000e+00\n",
       "2     9.255612e-13  29.0  21000.0  1.419408e-12\n",
       "3    -1.625635e-12  21.0  41700.0  2.000000e+00\n",
       "4     1.000000e+00  28.0  26100.0  4.917514e-13\n",
       "...            ...   ...      ...           ...\n",
       "4995  3.380258e-12  28.0  35700.0  2.000000e+00\n",
       "4996  1.288276e-12  34.0  52400.0  1.000000e+00\n",
       "4997  3.872218e-12  20.0  33900.0  2.000000e+00\n",
       "4998  1.000000e+00  22.0  32700.0  3.000000e+00\n",
       "4999  1.000000e+00  28.0  40600.0  1.000000e+00\n",
       "\n",
       "[5000 rows x 4 columns]"
      ]
     },
     "execution_count": 45,
     "metadata": {},
     "output_type": "execute_result"
    }
   ],
   "source": [
    "recovered= pd.DataFrame(invertible @ np.linalg.inv(P))\n",
    "recovered"
   ]
  },
  {
   "cell_type": "markdown",
   "metadata": {},
   "source": [
    "Shows the three cases for some clients: Original data\n",
    "- The transformed data\n",
    "- The inverted (recovered) data"
   ]
  },
  {
   "cell_type": "code",
   "execution_count": 46,
   "metadata": {
    "trusted": true
   },
   "outputs": [
    {
     "data": {
      "text/plain": [
       "gender                             1.0\n",
       "age                               43.0\n",
       "income                         41000.0\n",
       "family_members                     2.0\n",
       "insurance_benefits                 1.0\n",
       "insurance_benefits_received        1.0\n",
       "Name: 5, dtype: float64"
      ]
     },
     "execution_count": 46,
     "metadata": {},
     "output_type": "execute_result"
    }
   ],
   "source": [
    "# Original Data\n",
    "df.loc[5]"
   ]
  },
  {
   "cell_type": "code",
   "execution_count": 47,
   "metadata": {
    "trusted": true
   },
   "outputs": [
    {
     "data": {
      "text/plain": [
       "0     5258.770252\n",
       "1    18509.859617\n",
       "2    15237.193427\n",
       "3    38032.317153\n",
       "Name: 5, dtype: float64"
      ]
     },
     "execution_count": 47,
     "metadata": {},
     "output_type": "execute_result"
    }
   ],
   "source": [
    "# Transformed\n",
    "\n",
    "invertible.loc[5]"
   ]
  },
  {
   "cell_type": "code",
   "execution_count": 48,
   "metadata": {
    "trusted": true
   },
   "outputs": [
    {
     "data": {
      "text/plain": [
       "0        1.0\n",
       "1       43.0\n",
       "2    41000.0\n",
       "3        2.0\n",
       "Name: 5, dtype: float64"
      ]
     },
     "execution_count": 48,
     "metadata": {},
     "output_type": "execute_result"
    }
   ],
   "source": [
    "# Recovered\n",
    "\n",
    "recovered.loc[5]"
   ]
  },
  {
   "cell_type": "markdown",
   "metadata": {},
   "source": [
    "## Linear regression testing with data obfuscation"
   ]
  },
  {
   "cell_type": "markdown",
   "metadata": {},
   "source": [
    "Now, let's test whether linear regression can work, computationally, with the chosen obfuscation transformation.\n",
    "Build a procedure or class that runs linear regression, optionally with obfuscation. You can use a scikit-learn linear regression implementation or your own.\n",
    "Run linear regression for the original and obfuscated data, compare the predicted values, and the RMSE and R^2 metrics. Is there a difference?"
   ]
  },
  {
   "cell_type": "markdown",
   "metadata": {},
   "source": [
    "**Procedure**\n",
    "\n",
    "- Create a square matrix $P$ of random numbers.- Check that it is invertible. If not, repeat the first step until you get an invertible matrix.- \n",
    "- Use $XP$ as the new feature matrix"
   ]
  },
  {
   "cell_type": "code",
   "execution_count": 49,
   "metadata": {
    "trusted": true
   },
   "outputs": [],
   "source": [
    "num_features = X_train.shape[1]\n",
    "\n",
    "# Generate a random square matrix\n",
    "\n",
    "np.random.seed(42)  # Set seed for reproducibility\n",
    "P = np.random.rand(num_features, num_features)"
   ]
  },
  {
   "cell_type": "code",
   "execution_count": 50,
   "metadata": {
    "trusted": true
   },
   "outputs": [
    {
     "name": "stdout",
     "output_type": "stream",
     "text": [
      "Generated P Matrix:\n",
      " [[0.37454012 0.95071431 0.73199394 0.59865848]\n",
      " [0.15601864 0.15599452 0.05808361 0.86617615]\n",
      " [0.60111501 0.70807258 0.02058449 0.96990985]\n",
      " [0.83244264 0.21233911 0.18182497 0.18340451]]\n"
     ]
    }
   ],
   "source": [
    "# Ensure that P is invertible\n",
    "while np.linalg.det(P) == 0:\n",
    "    P = np.random.rand(num_features, num_features)\n",
    "\n",
    "print(\"Generated P Matrix:\\n\", P)\n",
    "\n",
    "#Si la matriz P no es invertible, se genera una nueva hasta obtener una que sí lo sea."
   ]
  },
  {
   "cell_type": "code",
   "execution_count": 60,
   "metadata": {
    "trusted": true
   },
   "outputs": [],
   "source": [
    "#Define Obfuscated Variables\n",
    "X_train_obfuscated = X_train @ P\n",
    "X_test_obfuscated = X_test @ P"
   ]
  },
  {
   "cell_type": "code",
   "execution_count": 61,
   "metadata": {
    "trusted": true
   },
   "outputs": [
    {
     "name": "stdout",
     "output_type": "stream",
     "text": [
      "RMSE (original): 0.3436\n",
      "R² (original): 0.4305\n"
     ]
    }
   ],
   "source": [
    "# Train linear regression on the original data\n",
    "lr = LinearRegression()\n",
    "lr.fit(X_train, y_train)\n",
    "y_pred_original = lr.predict(X_test)\n",
    "\n",
    "rmse_original = root_mean_squared_error(y_test, y_pred_original)\n",
    "r2_original = r2_score(y_test, y_pred_original)\n",
    "\n",
    "print(f\"RMSE (original): {rmse_original:.4f}\")\n",
    "print(f\"R² (original): {r2_original:.4f}\")"
   ]
  },
  {
   "cell_type": "code",
   "execution_count": 62,
   "metadata": {
    "trusted": true
   },
   "outputs": [
    {
     "name": "stdout",
     "output_type": "stream",
     "text": [
      "RMSE (ofuscado): 0.3436\n",
      "R² (ofuscado): 0.4305\n"
     ]
    }
   ],
   "source": [
    "# Train linear regression on obfuscated data\n",
    "lr.fit(X_train_obfuscated, y_train)\n",
    "y_pred_obfuscated = lr.predict(X_test_obfuscated)\n",
    "\n",
    "rmse_obfuscated = root_mean_squared_error(y_test, y_pred_obfuscated)\n",
    "r2_obfuscated = r2_score(y_test, y_pred_obfuscated)\n",
    "\n",
    "print(f\"RMSE (ofuscado): {rmse_obfuscated:.4f}\")\n",
    "print(f\"R² (ofuscado): {r2_obfuscated:.4f}\")\n"
   ]
  },
  {
   "cell_type": "markdown",
   "metadata": {},
   "source": [
    "Both cases yield the same result, meaning that obfuscation did not affect the quality of the model."
   ]
  },
  {
   "cell_type": "markdown",
   "metadata": {},
   "source": [
    "# Conclusions"
   ]
  },
  {
   "cell_type": "markdown",
   "metadata": {},
   "source": [
    "KNN and linear regression models proved effective in predicting performance and finding similar customers. In both cases, scaling is important, although much more so in KNN, since without scaling, KNN is influenced by magnitude differences in the variables, affecting accuracy. However, techniques such as MaxAbsScaler improve performance.\n",
    "\n",
    "On the other hand, we conclude that multiplying by a matrix P transforms the data without altering the quality of the predictions, ensuring that customers' personal information remains secure while the models continue to function correctly."
   ]
  }
 ],
 "metadata": {
  "ExecuteTimeLog": [
   {
    "duration": 2438,
    "start_time": "2025-01-28T00:50:15.221Z"
   },
   {
    "duration": 2704,
    "start_time": "2025-01-28T23:08:04.381Z"
   },
   {
    "duration": 280,
    "start_time": "2025-01-28T23:13:54.168Z"
   },
   {
    "duration": 10,
    "start_time": "2025-01-28T23:13:59.963Z"
   },
   {
    "duration": 6,
    "start_time": "2025-01-28T23:14:01.546Z"
   },
   {
    "duration": 12,
    "start_time": "2025-01-28T23:14:03.070Z"
   },
   {
    "duration": 9,
    "start_time": "2025-01-28T23:14:05.999Z"
   },
   {
    "duration": 80,
    "start_time": "2025-01-28T23:14:08.675Z"
   },
   {
    "duration": 18,
    "start_time": "2025-01-28T23:14:39.426Z"
   },
   {
    "duration": 3,
    "start_time": "2025-01-28T23:18:16.002Z"
   },
   {
    "duration": 11,
    "start_time": "2025-01-28T23:18:27.082Z"
   },
   {
    "duration": 5,
    "start_time": "2025-01-28T23:21:28.577Z"
   },
   {
    "duration": 6,
    "start_time": "2025-01-28T23:22:50.003Z"
   },
   {
    "duration": 6,
    "start_time": "2025-01-28T23:27:17.456Z"
   },
   {
    "duration": 11,
    "start_time": "2025-01-28T23:28:23.643Z"
   },
   {
    "duration": 10,
    "start_time": "2025-01-28T23:31:35.657Z"
   },
   {
    "duration": 212,
    "start_time": "2025-01-28T23:32:40.690Z"
   },
   {
    "duration": 12,
    "start_time": "2025-01-28T23:32:45.788Z"
   },
   {
    "duration": 19,
    "start_time": "2025-01-28T23:39:29.035Z"
   },
   {
    "duration": 2759,
    "start_time": "2025-01-29T23:25:39.567Z"
   },
   {
    "duration": 13,
    "start_time": "2025-01-29T23:25:42.328Z"
   },
   {
    "duration": 5,
    "start_time": "2025-01-29T23:25:44.744Z"
   },
   {
    "duration": 10,
    "start_time": "2025-01-29T23:25:48.441Z"
   },
   {
    "duration": 5,
    "start_time": "2025-01-29T23:25:52.275Z"
   },
   {
    "duration": 2626,
    "start_time": "2025-01-29T23:34:00.071Z"
   },
   {
    "duration": 11,
    "start_time": "2025-01-29T23:40:47.501Z"
   },
   {
    "duration": 4,
    "start_time": "2025-01-29T23:45:00.218Z"
   },
   {
    "duration": 211,
    "start_time": "2025-01-30T01:45:13.330Z"
   },
   {
    "duration": 2524,
    "start_time": "2025-01-30T01:45:24.365Z"
   },
   {
    "duration": 2755,
    "start_time": "2025-01-30T01:45:26.893Z"
   },
   {
    "duration": 14,
    "start_time": "2025-01-30T01:45:29.651Z"
   },
   {
    "duration": 3,
    "start_time": "2025-01-30T01:45:29.668Z"
   },
   {
    "duration": 10,
    "start_time": "2025-01-30T01:45:29.675Z"
   },
   {
    "duration": 23,
    "start_time": "2025-01-30T01:45:29.687Z"
   },
   {
    "duration": 3,
    "start_time": "2025-01-30T01:45:29.712Z"
   },
   {
    "duration": 9,
    "start_time": "2025-01-30T01:45:29.718Z"
   },
   {
    "duration": 2,
    "start_time": "2025-01-30T01:45:29.729Z"
   },
   {
    "duration": 25,
    "start_time": "2025-01-30T01:45:29.733Z"
   },
   {
    "duration": 2669,
    "start_time": "2025-01-30T01:45:29.760Z"
   },
   {
    "duration": 5,
    "start_time": "2025-01-30T01:45:32.431Z"
   },
   {
    "duration": 9,
    "start_time": "2025-01-30T01:45:32.437Z"
   },
   {
    "duration": 15,
    "start_time": "2025-01-30T01:45:32.450Z"
   },
   {
    "duration": 8,
    "start_time": "2025-01-30T01:45:32.467Z"
   },
   {
    "duration": 3,
    "start_time": "2025-01-30T01:45:32.477Z"
   },
   {
    "duration": 4,
    "start_time": "2025-01-30T01:45:32.482Z"
   },
   {
    "duration": 0,
    "start_time": "2025-01-30T01:45:32.488Z"
   },
   {
    "duration": 0,
    "start_time": "2025-01-30T01:45:32.489Z"
   },
   {
    "duration": 0,
    "start_time": "2025-01-30T01:45:32.490Z"
   },
   {
    "duration": 0,
    "start_time": "2025-01-30T01:45:32.491Z"
   },
   {
    "duration": 0,
    "start_time": "2025-01-30T01:45:32.492Z"
   },
   {
    "duration": 0,
    "start_time": "2025-01-30T01:45:32.494Z"
   },
   {
    "duration": 0,
    "start_time": "2025-01-30T01:45:32.494Z"
   },
   {
    "duration": 0,
    "start_time": "2025-01-30T01:45:32.508Z"
   },
   {
    "duration": 0,
    "start_time": "2025-01-30T01:45:32.509Z"
   },
   {
    "duration": 0,
    "start_time": "2025-01-30T01:45:32.510Z"
   },
   {
    "duration": 417,
    "start_time": "2025-01-30T01:51:04.768Z"
   },
   {
    "duration": 17,
    "start_time": "2025-01-30T01:51:09.887Z"
   },
   {
    "duration": 4,
    "start_time": "2025-01-30T01:51:58.885Z"
   },
   {
    "duration": 4,
    "start_time": "2025-01-30T01:52:05.250Z"
   },
   {
    "duration": 483,
    "start_time": "2025-01-30T01:56:30.110Z"
   },
   {
    "duration": 4,
    "start_time": "2025-01-30T01:56:55.885Z"
   },
   {
    "duration": 3,
    "start_time": "2025-01-30T01:56:59.876Z"
   },
   {
    "duration": 71,
    "start_time": "2025-01-30T01:57:05.095Z"
   },
   {
    "duration": 34,
    "start_time": "2025-01-30T01:57:20.266Z"
   },
   {
    "duration": 22,
    "start_time": "2025-01-30T01:57:25.520Z"
   },
   {
    "duration": 22,
    "start_time": "2025-01-30T01:57:30.315Z"
   },
   {
    "duration": 4,
    "start_time": "2025-01-30T01:57:50.997Z"
   },
   {
    "duration": 115,
    "start_time": "2025-01-30T01:57:55.437Z"
   },
   {
    "duration": 2205,
    "start_time": "2025-01-30T01:58:06.211Z"
   },
   {
    "duration": 1044,
    "start_time": "2025-01-30T01:58:08.418Z"
   },
   {
    "duration": 8,
    "start_time": "2025-01-30T01:58:09.464Z"
   },
   {
    "duration": 3,
    "start_time": "2025-01-30T01:58:09.474Z"
   },
   {
    "duration": 14,
    "start_time": "2025-01-30T01:58:09.479Z"
   },
   {
    "duration": 18,
    "start_time": "2025-01-30T01:58:09.494Z"
   },
   {
    "duration": 3,
    "start_time": "2025-01-30T01:58:09.514Z"
   },
   {
    "duration": 13,
    "start_time": "2025-01-30T01:58:09.518Z"
   },
   {
    "duration": 2,
    "start_time": "2025-01-30T01:58:09.532Z"
   },
   {
    "duration": 26,
    "start_time": "2025-01-30T01:58:09.537Z"
   },
   {
    "duration": 2688,
    "start_time": "2025-01-30T01:58:09.565Z"
   },
   {
    "duration": 3,
    "start_time": "2025-01-30T01:58:12.256Z"
   },
   {
    "duration": 4,
    "start_time": "2025-01-30T01:58:12.260Z"
   },
   {
    "duration": 11,
    "start_time": "2025-01-30T01:58:12.266Z"
   },
   {
    "duration": 11,
    "start_time": "2025-01-30T01:58:12.278Z"
   },
   {
    "duration": 16,
    "start_time": "2025-01-30T01:58:12.291Z"
   },
   {
    "duration": 398,
    "start_time": "2025-01-30T01:58:12.309Z"
   },
   {
    "duration": 1,
    "start_time": "2025-01-30T01:58:12.709Z"
   },
   {
    "duration": 0,
    "start_time": "2025-01-30T01:58:12.710Z"
   },
   {
    "duration": 0,
    "start_time": "2025-01-30T01:58:12.711Z"
   },
   {
    "duration": 0,
    "start_time": "2025-01-30T01:58:12.712Z"
   },
   {
    "duration": 0,
    "start_time": "2025-01-30T01:58:12.713Z"
   },
   {
    "duration": 0,
    "start_time": "2025-01-30T01:58:12.714Z"
   },
   {
    "duration": 0,
    "start_time": "2025-01-30T01:58:12.715Z"
   },
   {
    "duration": 0,
    "start_time": "2025-01-30T01:58:12.716Z"
   },
   {
    "duration": 0,
    "start_time": "2025-01-30T01:58:12.717Z"
   },
   {
    "duration": 0,
    "start_time": "2025-01-30T01:58:12.718Z"
   },
   {
    "duration": 0,
    "start_time": "2025-01-30T01:58:12.720Z"
   },
   {
    "duration": 4,
    "start_time": "2025-01-30T01:58:53.718Z"
   },
   {
    "duration": 29,
    "start_time": "2025-01-30T01:58:58.386Z"
   },
   {
    "duration": 4,
    "start_time": "2025-01-30T02:00:31.947Z"
   },
   {
    "duration": 73,
    "start_time": "2025-01-30T02:01:03.566Z"
   },
   {
    "duration": 4,
    "start_time": "2025-01-30T02:01:58.836Z"
   },
   {
    "duration": 23,
    "start_time": "2025-01-30T02:02:03.445Z"
   },
   {
    "duration": 5,
    "start_time": "2025-01-30T02:02:37.564Z"
   },
   {
    "duration": 19,
    "start_time": "2025-01-30T02:02:41.708Z"
   },
   {
    "duration": 14,
    "start_time": "2025-01-30T02:02:45.173Z"
   },
   {
    "duration": 33,
    "start_time": "2025-01-30T02:06:16.451Z"
   },
   {
    "duration": 52,
    "start_time": "2025-01-30T02:07:08.894Z"
   },
   {
    "duration": 13,
    "start_time": "2025-01-30T02:07:11.628Z"
   },
   {
    "duration": 30,
    "start_time": "2025-01-30T02:07:40.022Z"
   },
   {
    "duration": 2486,
    "start_time": "2025-01-30T20:34:31.018Z"
   },
   {
    "duration": 2849,
    "start_time": "2025-01-30T20:34:33.507Z"
   },
   {
    "duration": 13,
    "start_time": "2025-01-30T20:34:36.358Z"
   },
   {
    "duration": 3,
    "start_time": "2025-01-30T20:34:36.373Z"
   },
   {
    "duration": 10,
    "start_time": "2025-01-30T20:34:36.378Z"
   },
   {
    "duration": 9,
    "start_time": "2025-01-30T20:34:36.389Z"
   },
   {
    "duration": 3,
    "start_time": "2025-01-30T20:34:36.400Z"
   },
   {
    "duration": 28,
    "start_time": "2025-01-30T20:34:36.404Z"
   },
   {
    "duration": 2,
    "start_time": "2025-01-30T20:34:36.434Z"
   },
   {
    "duration": 18,
    "start_time": "2025-01-30T20:34:36.440Z"
   },
   {
    "duration": 2617,
    "start_time": "2025-01-30T20:34:36.460Z"
   },
   {
    "duration": 2,
    "start_time": "2025-01-30T20:34:39.079Z"
   },
   {
    "duration": 4,
    "start_time": "2025-01-30T20:34:39.083Z"
   },
   {
    "duration": 9,
    "start_time": "2025-01-30T20:34:39.089Z"
   },
   {
    "duration": 9,
    "start_time": "2025-01-30T20:34:39.100Z"
   },
   {
    "duration": 100,
    "start_time": "2025-01-30T20:34:39.124Z"
   },
   {
    "duration": 13,
    "start_time": "2025-01-30T20:34:39.227Z"
   },
   {
    "duration": 20,
    "start_time": "2025-01-30T20:34:39.242Z"
   },
   {
    "duration": 13,
    "start_time": "2025-01-30T20:34:39.263Z"
   },
   {
    "duration": 50,
    "start_time": "2025-01-30T20:34:39.278Z"
   },
   {
    "duration": 8,
    "start_time": "2025-01-30T20:34:39.330Z"
   },
   {
    "duration": 0,
    "start_time": "2025-01-30T20:34:39.340Z"
   },
   {
    "duration": 0,
    "start_time": "2025-01-30T20:34:39.341Z"
   },
   {
    "duration": 0,
    "start_time": "2025-01-30T20:34:39.342Z"
   },
   {
    "duration": 0,
    "start_time": "2025-01-30T20:34:39.343Z"
   },
   {
    "duration": 0,
    "start_time": "2025-01-30T20:34:39.344Z"
   },
   {
    "duration": 0,
    "start_time": "2025-01-30T20:34:39.346Z"
   },
   {
    "duration": 0,
    "start_time": "2025-01-30T20:34:39.348Z"
   },
   {
    "duration": 0,
    "start_time": "2025-01-30T20:34:39.349Z"
   },
   {
    "duration": 0,
    "start_time": "2025-01-30T20:34:39.350Z"
   },
   {
    "duration": 0,
    "start_time": "2025-01-30T20:34:39.351Z"
   },
   {
    "duration": 4,
    "start_time": "2025-01-30T21:36:40.098Z"
   },
   {
    "duration": 6,
    "start_time": "2025-01-30T21:37:51.604Z"
   },
   {
    "duration": 4,
    "start_time": "2025-01-30T21:38:26.356Z"
   },
   {
    "duration": 6,
    "start_time": "2025-01-30T21:38:32.180Z"
   },
   {
    "duration": 4,
    "start_time": "2025-01-30T21:51:03.239Z"
   },
   {
    "duration": 592,
    "start_time": "2025-01-30T21:51:57.977Z"
   },
   {
    "duration": 4,
    "start_time": "2025-01-30T21:52:08.108Z"
   },
   {
    "duration": 4,
    "start_time": "2025-01-30T21:52:30.001Z"
   },
   {
    "duration": 6,
    "start_time": "2025-01-30T21:52:40.004Z"
   },
   {
    "duration": 4,
    "start_time": "2025-01-30T21:53:18.370Z"
   },
   {
    "duration": 9,
    "start_time": "2025-01-30T21:53:21.879Z"
   },
   {
    "duration": 9,
    "start_time": "2025-01-30T21:53:40.419Z"
   },
   {
    "duration": 8,
    "start_time": "2025-01-30T21:55:41.470Z"
   },
   {
    "duration": 2867,
    "start_time": "2025-01-30T23:34:59.439Z"
   },
   {
    "duration": 2785,
    "start_time": "2025-01-30T23:35:02.309Z"
   },
   {
    "duration": 13,
    "start_time": "2025-01-30T23:35:05.096Z"
   },
   {
    "duration": 3,
    "start_time": "2025-01-30T23:35:05.111Z"
   },
   {
    "duration": 10,
    "start_time": "2025-01-30T23:35:05.116Z"
   },
   {
    "duration": 19,
    "start_time": "2025-01-30T23:35:05.128Z"
   },
   {
    "duration": 3,
    "start_time": "2025-01-30T23:35:05.149Z"
   },
   {
    "duration": 8,
    "start_time": "2025-01-30T23:35:05.154Z"
   },
   {
    "duration": 3,
    "start_time": "2025-01-30T23:35:05.163Z"
   },
   {
    "duration": 21,
    "start_time": "2025-01-30T23:35:05.170Z"
   },
   {
    "duration": 2700,
    "start_time": "2025-01-30T23:35:05.193Z"
   },
   {
    "duration": 2,
    "start_time": "2025-01-30T23:35:07.895Z"
   },
   {
    "duration": 4,
    "start_time": "2025-01-30T23:35:07.899Z"
   },
   {
    "duration": 10,
    "start_time": "2025-01-30T23:35:07.905Z"
   },
   {
    "duration": 11,
    "start_time": "2025-01-30T23:35:07.917Z"
   },
   {
    "duration": 4,
    "start_time": "2025-01-30T23:35:07.930Z"
   },
   {
    "duration": 14,
    "start_time": "2025-01-30T23:35:07.944Z"
   },
   {
    "duration": 20,
    "start_time": "2025-01-30T23:35:07.960Z"
   },
   {
    "duration": 12,
    "start_time": "2025-01-30T23:35:07.982Z"
   },
   {
    "duration": 19,
    "start_time": "2025-01-30T23:35:07.996Z"
   },
   {
    "duration": 8,
    "start_time": "2025-01-30T23:35:08.044Z"
   },
   {
    "duration": 2,
    "start_time": "2025-01-30T23:35:08.054Z"
   },
   {
    "duration": 5,
    "start_time": "2025-01-30T23:35:08.058Z"
   },
   {
    "duration": 3,
    "start_time": "2025-01-30T23:35:08.064Z"
   },
   {
    "duration": 5,
    "start_time": "2025-01-30T23:35:08.069Z"
   },
   {
    "duration": 0,
    "start_time": "2025-01-30T23:35:08.075Z"
   },
   {
    "duration": 0,
    "start_time": "2025-01-30T23:35:08.076Z"
   },
   {
    "duration": 0,
    "start_time": "2025-01-30T23:35:08.078Z"
   },
   {
    "duration": 0,
    "start_time": "2025-01-30T23:35:08.079Z"
   },
   {
    "duration": 0,
    "start_time": "2025-01-30T23:35:08.080Z"
   },
   {
    "duration": 0,
    "start_time": "2025-01-30T23:35:08.081Z"
   },
   {
    "duration": 5,
    "start_time": "2025-01-30T23:37:29.565Z"
   },
   {
    "duration": 5,
    "start_time": "2025-01-30T23:38:17.601Z"
   },
   {
    "duration": 231,
    "start_time": "2025-01-30T23:38:25.741Z"
   },
   {
    "duration": 15,
    "start_time": "2025-01-30T23:42:56.072Z"
   },
   {
    "duration": 8,
    "start_time": "2025-01-30T23:43:03.218Z"
   },
   {
    "duration": 100,
    "start_time": "2025-01-30T23:45:39.419Z"
   },
   {
    "duration": 3,
    "start_time": "2025-01-30T23:46:03.137Z"
   },
   {
    "duration": 14,
    "start_time": "2025-01-30T23:46:18.667Z"
   },
   {
    "duration": 7,
    "start_time": "2025-01-30T23:46:44.292Z"
   },
   {
    "duration": 3,
    "start_time": "2025-01-30T23:52:35.891Z"
   },
   {
    "duration": 645,
    "start_time": "2025-01-30T23:54:01.899Z"
   },
   {
    "duration": 631,
    "start_time": "2025-01-30T23:54:12.274Z"
   },
   {
    "duration": 622,
    "start_time": "2025-01-30T23:54:35.596Z"
   },
   {
    "duration": 637,
    "start_time": "2025-01-30T23:54:41.783Z"
   },
   {
    "duration": 685,
    "start_time": "2025-01-30T23:58:52.771Z"
   },
   {
    "duration": 17,
    "start_time": "2025-01-31T00:03:59.388Z"
   },
   {
    "duration": 18,
    "start_time": "2025-01-31T00:04:31.135Z"
   },
   {
    "duration": 4,
    "start_time": "2025-01-31T00:05:15.975Z"
   },
   {
    "duration": 4,
    "start_time": "2025-01-31T00:05:17.355Z"
   },
   {
    "duration": 3,
    "start_time": "2025-01-31T00:19:51.486Z"
   },
   {
    "duration": 210,
    "start_time": "2025-01-31T02:17:45.136Z"
   },
   {
    "duration": 2602,
    "start_time": "2025-01-31T02:18:01.837Z"
   },
   {
    "duration": 2749,
    "start_time": "2025-01-31T02:18:04.442Z"
   },
   {
    "duration": 15,
    "start_time": "2025-01-31T02:18:07.193Z"
   },
   {
    "duration": 3,
    "start_time": "2025-01-31T02:18:07.210Z"
   },
   {
    "duration": 17,
    "start_time": "2025-01-31T02:18:07.216Z"
   },
   {
    "duration": 9,
    "start_time": "2025-01-31T02:18:07.234Z"
   },
   {
    "duration": 3,
    "start_time": "2025-01-31T02:18:07.245Z"
   },
   {
    "duration": 8,
    "start_time": "2025-01-31T02:18:07.249Z"
   },
   {
    "duration": 3,
    "start_time": "2025-01-31T02:18:07.258Z"
   },
   {
    "duration": 24,
    "start_time": "2025-01-31T02:18:07.263Z"
   },
   {
    "duration": 2724,
    "start_time": "2025-01-31T02:18:07.290Z"
   },
   {
    "duration": 3,
    "start_time": "2025-01-31T02:18:10.016Z"
   },
   {
    "duration": 3,
    "start_time": "2025-01-31T02:18:10.022Z"
   },
   {
    "duration": 10,
    "start_time": "2025-01-31T02:18:10.029Z"
   },
   {
    "duration": 10,
    "start_time": "2025-01-31T02:18:10.040Z"
   },
   {
    "duration": 6,
    "start_time": "2025-01-31T02:18:10.052Z"
   },
   {
    "duration": 18,
    "start_time": "2025-01-31T02:18:10.059Z"
   },
   {
    "duration": 45,
    "start_time": "2025-01-31T02:18:10.079Z"
   },
   {
    "duration": 17,
    "start_time": "2025-01-31T02:18:10.126Z"
   },
   {
    "duration": 25,
    "start_time": "2025-01-31T02:18:10.146Z"
   },
   {
    "duration": 8,
    "start_time": "2025-01-31T02:18:10.173Z"
   },
   {
    "duration": 4,
    "start_time": "2025-01-31T02:18:10.183Z"
   },
   {
    "duration": 37,
    "start_time": "2025-01-31T02:18:10.189Z"
   },
   {
    "duration": 9,
    "start_time": "2025-01-31T02:18:10.228Z"
   },
   {
    "duration": 697,
    "start_time": "2025-01-31T02:18:10.239Z"
   },
   {
    "duration": 325,
    "start_time": "2025-01-31T02:18:10.938Z"
   },
   {
    "duration": 0,
    "start_time": "2025-01-31T02:18:11.264Z"
   },
   {
    "duration": 0,
    "start_time": "2025-01-31T02:18:11.265Z"
   },
   {
    "duration": 0,
    "start_time": "2025-01-31T02:18:11.266Z"
   },
   {
    "duration": 0,
    "start_time": "2025-01-31T02:18:11.267Z"
   },
   {
    "duration": 0,
    "start_time": "2025-01-31T02:18:11.269Z"
   },
   {
    "duration": 0,
    "start_time": "2025-01-31T02:18:11.270Z"
   },
   {
    "duration": 0,
    "start_time": "2025-01-31T02:18:11.270Z"
   },
   {
    "duration": 0,
    "start_time": "2025-01-31T02:18:11.271Z"
   },
   {
    "duration": 0,
    "start_time": "2025-01-31T02:18:11.273Z"
   },
   {
    "duration": 21,
    "start_time": "2025-01-31T02:18:36.484Z"
   },
   {
    "duration": 16,
    "start_time": "2025-01-31T02:18:45.026Z"
   },
   {
    "duration": 10,
    "start_time": "2025-01-31T02:19:08.624Z"
   },
   {
    "duration": 3,
    "start_time": "2025-01-31T02:19:20.035Z"
   },
   {
    "duration": 3,
    "start_time": "2025-01-31T02:19:36.418Z"
   },
   {
    "duration": 23,
    "start_time": "2025-01-31T02:20:27.942Z"
   },
   {
    "duration": 30,
    "start_time": "2025-01-31T02:20:42.161Z"
   },
   {
    "duration": 3,
    "start_time": "2025-01-31T02:56:03.991Z"
   },
   {
    "duration": 5,
    "start_time": "2025-01-31T03:23:14.313Z"
   },
   {
    "duration": 3,
    "start_time": "2025-01-31T03:23:17.183Z"
   },
   {
    "duration": 3,
    "start_time": "2025-01-31T03:26:20.223Z"
   },
   {
    "duration": 4,
    "start_time": "2025-01-31T03:26:22.279Z"
   },
   {
    "duration": 3,
    "start_time": "2025-01-31T03:26:28.549Z"
   },
   {
    "duration": 2250,
    "start_time": "2025-01-31T03:26:37.381Z"
   },
   {
    "duration": 1037,
    "start_time": "2025-01-31T03:26:39.634Z"
   },
   {
    "duration": 8,
    "start_time": "2025-01-31T03:26:40.673Z"
   },
   {
    "duration": 3,
    "start_time": "2025-01-31T03:26:40.683Z"
   },
   {
    "duration": 11,
    "start_time": "2025-01-31T03:26:40.689Z"
   },
   {
    "duration": 29,
    "start_time": "2025-01-31T03:26:40.701Z"
   },
   {
    "duration": 2,
    "start_time": "2025-01-31T03:26:40.732Z"
   },
   {
    "duration": 8,
    "start_time": "2025-01-31T03:26:40.737Z"
   },
   {
    "duration": 3,
    "start_time": "2025-01-31T03:26:40.746Z"
   },
   {
    "duration": 18,
    "start_time": "2025-01-31T03:26:40.750Z"
   },
   {
    "duration": 2630,
    "start_time": "2025-01-31T03:26:40.770Z"
   },
   {
    "duration": 3,
    "start_time": "2025-01-31T03:26:43.402Z"
   },
   {
    "duration": 4,
    "start_time": "2025-01-31T03:26:43.407Z"
   },
   {
    "duration": 14,
    "start_time": "2025-01-31T03:26:43.414Z"
   },
   {
    "duration": 9,
    "start_time": "2025-01-31T03:26:43.429Z"
   },
   {
    "duration": 4,
    "start_time": "2025-01-31T03:26:43.439Z"
   },
   {
    "duration": 13,
    "start_time": "2025-01-31T03:26:43.445Z"
   },
   {
    "duration": 21,
    "start_time": "2025-01-31T03:26:43.460Z"
   },
   {
    "duration": 46,
    "start_time": "2025-01-31T03:26:43.483Z"
   },
   {
    "duration": 20,
    "start_time": "2025-01-31T03:26:43.531Z"
   },
   {
    "duration": 9,
    "start_time": "2025-01-31T03:26:43.553Z"
   },
   {
    "duration": 5,
    "start_time": "2025-01-31T03:26:43.564Z"
   },
   {
    "duration": 7,
    "start_time": "2025-01-31T03:26:43.570Z"
   },
   {
    "duration": 7,
    "start_time": "2025-01-31T03:26:43.578Z"
   },
   {
    "duration": 683,
    "start_time": "2025-01-31T03:26:43.586Z"
   },
   {
    "duration": 15,
    "start_time": "2025-01-31T03:26:44.272Z"
   },
   {
    "duration": 5,
    "start_time": "2025-01-31T03:26:44.288Z"
   },
   {
    "duration": 5,
    "start_time": "2025-01-31T03:26:44.295Z"
   },
   {
    "duration": 41,
    "start_time": "2025-01-31T03:26:44.302Z"
   },
   {
    "duration": 4,
    "start_time": "2025-01-31T03:26:44.346Z"
   },
   {
    "duration": 4,
    "start_time": "2025-01-31T03:26:44.352Z"
   },
   {
    "duration": 257,
    "start_time": "2025-01-31T03:26:44.357Z"
   },
   {
    "duration": 0,
    "start_time": "2025-01-31T03:26:44.616Z"
   },
   {
    "duration": 0,
    "start_time": "2025-01-31T03:26:44.618Z"
   },
   {
    "duration": 0,
    "start_time": "2025-01-31T03:26:44.624Z"
   },
   {
    "duration": 3,
    "start_time": "2025-01-31T03:31:33.224Z"
   },
   {
    "duration": 56,
    "start_time": "2025-01-31T03:31:36.879Z"
   },
   {
    "duration": 5,
    "start_time": "2025-01-31T03:31:55.724Z"
   },
   {
    "duration": 77,
    "start_time": "2025-01-31T03:31:57.753Z"
   },
   {
    "duration": 34,
    "start_time": "2025-01-31T03:31:59.490Z"
   },
   {
    "duration": 2,
    "start_time": "2025-01-31T03:32:01.803Z"
   },
   {
    "duration": 61,
    "start_time": "2025-01-31T03:32:03.465Z"
   },
   {
    "duration": 4,
    "start_time": "2025-01-31T03:32:54.909Z"
   },
   {
    "duration": 47,
    "start_time": "2025-01-31T03:33:00.681Z"
   },
   {
    "duration": 34,
    "start_time": "2025-01-31T03:33:05.307Z"
   },
   {
    "duration": 3,
    "start_time": "2025-01-31T03:33:09.078Z"
   },
   {
    "duration": 33,
    "start_time": "2025-01-31T03:33:15.899Z"
   },
   {
    "duration": 3,
    "start_time": "2025-01-31T03:33:35.190Z"
   },
   {
    "duration": 4,
    "start_time": "2025-01-31T03:33:37.230Z"
   },
   {
    "duration": 7,
    "start_time": "2025-01-31T03:33:46.401Z"
   },
   {
    "duration": 13,
    "start_time": "2025-01-31T03:40:42.400Z"
   },
   {
    "duration": 29,
    "start_time": "2025-01-31T03:43:01.315Z"
   },
   {
    "duration": 101,
    "start_time": "2025-01-31T03:43:55.823Z"
   },
   {
    "duration": 108,
    "start_time": "2025-01-31T03:43:59.222Z"
   },
   {
    "duration": 4,
    "start_time": "2025-01-31T03:48:07.315Z"
   },
   {
    "duration": 13,
    "start_time": "2025-01-31T03:50:57.442Z"
   },
   {
    "duration": 156,
    "start_time": "2025-01-31T18:58:56.849Z"
   },
   {
    "duration": 11,
    "start_time": "2025-01-31T18:59:00.045Z"
   },
   {
    "duration": 2383,
    "start_time": "2025-01-31T18:59:11.185Z"
   },
   {
    "duration": 2714,
    "start_time": "2025-01-31T18:59:13.571Z"
   },
   {
    "duration": 12,
    "start_time": "2025-01-31T18:59:16.287Z"
   },
   {
    "duration": 3,
    "start_time": "2025-01-31T18:59:16.301Z"
   },
   {
    "duration": 10,
    "start_time": "2025-01-31T18:59:16.307Z"
   },
   {
    "duration": 16,
    "start_time": "2025-01-31T18:59:16.319Z"
   },
   {
    "duration": 3,
    "start_time": "2025-01-31T18:59:16.337Z"
   },
   {
    "duration": 9,
    "start_time": "2025-01-31T18:59:16.342Z"
   },
   {
    "duration": 3,
    "start_time": "2025-01-31T18:59:16.352Z"
   },
   {
    "duration": 18,
    "start_time": "2025-01-31T18:59:16.356Z"
   },
   {
    "duration": 2568,
    "start_time": "2025-01-31T18:59:16.376Z"
   },
   {
    "duration": 3,
    "start_time": "2025-01-31T18:59:18.946Z"
   },
   {
    "duration": 4,
    "start_time": "2025-01-31T18:59:18.950Z"
   },
   {
    "duration": 97,
    "start_time": "2025-01-31T18:59:18.958Z"
   },
   {
    "duration": 8,
    "start_time": "2025-01-31T18:59:19.057Z"
   },
   {
    "duration": 4,
    "start_time": "2025-01-31T18:59:19.066Z"
   },
   {
    "duration": 13,
    "start_time": "2025-01-31T18:59:19.072Z"
   },
   {
    "duration": 45,
    "start_time": "2025-01-31T18:59:19.087Z"
   },
   {
    "duration": 14,
    "start_time": "2025-01-31T18:59:19.135Z"
   },
   {
    "duration": 21,
    "start_time": "2025-01-31T18:59:19.150Z"
   },
   {
    "duration": 8,
    "start_time": "2025-01-31T18:59:19.173Z"
   },
   {
    "duration": 5,
    "start_time": "2025-01-31T18:59:19.183Z"
   },
   {
    "duration": 6,
    "start_time": "2025-01-31T18:59:19.190Z"
   },
   {
    "duration": 38,
    "start_time": "2025-01-31T18:59:19.198Z"
   },
   {
    "duration": 696,
    "start_time": "2025-01-31T18:59:19.238Z"
   },
   {
    "duration": 10,
    "start_time": "2025-01-31T18:59:19.936Z"
   },
   {
    "duration": 3,
    "start_time": "2025-01-31T18:59:19.947Z"
   },
   {
    "duration": 3,
    "start_time": "2025-01-31T18:59:19.952Z"
   },
   {
    "duration": 18,
    "start_time": "2025-01-31T18:59:19.957Z"
   },
   {
    "duration": 5,
    "start_time": "2025-01-31T18:59:19.977Z"
   },
   {
    "duration": 3,
    "start_time": "2025-01-31T18:59:19.986Z"
   },
   {
    "duration": 42,
    "start_time": "2025-01-31T18:59:19.991Z"
   },
   {
    "duration": 6,
    "start_time": "2025-01-31T18:59:20.035Z"
   },
   {
    "duration": 4,
    "start_time": "2025-01-31T18:59:20.042Z"
   },
   {
    "duration": 2,
    "start_time": "2025-01-31T18:59:20.048Z"
   },
   {
    "duration": 3,
    "start_time": "2025-01-31T18:59:20.052Z"
   },
   {
    "duration": 3,
    "start_time": "2025-01-31T18:59:23.331Z"
   },
   {
    "duration": 3,
    "start_time": "2025-01-31T19:00:51.355Z"
   },
   {
    "duration": 6,
    "start_time": "2025-01-31T19:07:33.334Z"
   },
   {
    "duration": 228,
    "start_time": "2025-01-31T19:11:49.407Z"
   },
   {
    "duration": 3,
    "start_time": "2025-01-31T19:16:06.227Z"
   },
   {
    "duration": 20,
    "start_time": "2025-01-31T19:16:11.916Z"
   },
   {
    "duration": 5,
    "start_time": "2025-01-31T19:16:53.478Z"
   },
   {
    "duration": 9,
    "start_time": "2025-01-31T19:17:22.001Z"
   },
   {
    "duration": 5,
    "start_time": "2025-01-31T19:17:28.496Z"
   },
   {
    "duration": 4,
    "start_time": "2025-01-31T19:18:19.380Z"
   },
   {
    "duration": 3,
    "start_time": "2025-01-31T19:38:33.086Z"
   },
   {
    "duration": 4,
    "start_time": "2025-01-31T20:47:35.304Z"
   },
   {
    "duration": 2,
    "start_time": "2025-01-31T20:47:41.430Z"
   },
   {
    "duration": 15,
    "start_time": "2025-01-31T20:48:54.027Z"
   },
   {
    "duration": 4,
    "start_time": "2025-01-31T20:49:10.113Z"
   },
   {
    "duration": 22,
    "start_time": "2025-01-31T20:49:23.488Z"
   },
   {
    "duration": 5,
    "start_time": "2025-01-31T20:49:52.774Z"
   },
   {
    "duration": 5,
    "start_time": "2025-01-31T20:50:36.072Z"
   },
   {
    "duration": 5,
    "start_time": "2025-01-31T20:50:49.440Z"
   },
   {
    "duration": 2333,
    "start_time": "2025-02-01T12:55:53.329Z"
   },
   {
    "duration": 1006,
    "start_time": "2025-02-01T12:55:55.664Z"
   },
   {
    "duration": 13,
    "start_time": "2025-02-01T12:55:56.673Z"
   },
   {
    "duration": 3,
    "start_time": "2025-02-01T12:55:56.689Z"
   },
   {
    "duration": 10,
    "start_time": "2025-02-01T12:55:56.695Z"
   },
   {
    "duration": 9,
    "start_time": "2025-02-01T12:55:56.706Z"
   },
   {
    "duration": 3,
    "start_time": "2025-02-01T12:55:56.716Z"
   },
   {
    "duration": 7,
    "start_time": "2025-02-01T12:55:56.721Z"
   },
   {
    "duration": 2,
    "start_time": "2025-02-01T12:55:56.730Z"
   },
   {
    "duration": 48,
    "start_time": "2025-02-01T12:55:56.735Z"
   },
   {
    "duration": 2500,
    "start_time": "2025-02-01T12:55:56.785Z"
   },
   {
    "duration": 2,
    "start_time": "2025-02-01T12:55:59.287Z"
   },
   {
    "duration": 4,
    "start_time": "2025-02-01T12:55:59.292Z"
   },
   {
    "duration": 8,
    "start_time": "2025-02-01T12:55:59.298Z"
   },
   {
    "duration": 8,
    "start_time": "2025-02-01T12:55:59.308Z"
   },
   {
    "duration": 4,
    "start_time": "2025-02-01T12:55:59.317Z"
   },
   {
    "duration": 48,
    "start_time": "2025-02-01T12:55:59.323Z"
   },
   {
    "duration": 20,
    "start_time": "2025-02-01T12:55:59.373Z"
   },
   {
    "duration": 12,
    "start_time": "2025-02-01T12:55:59.395Z"
   },
   {
    "duration": 19,
    "start_time": "2025-02-01T12:55:59.408Z"
   },
   {
    "duration": 9,
    "start_time": "2025-02-01T12:55:59.429Z"
   },
   {
    "duration": 34,
    "start_time": "2025-02-01T12:55:59.439Z"
   },
   {
    "duration": 6,
    "start_time": "2025-02-01T12:55:59.475Z"
   },
   {
    "duration": 7,
    "start_time": "2025-02-01T12:55:59.483Z"
   },
   {
    "duration": 625,
    "start_time": "2025-02-01T12:55:59.491Z"
   },
   {
    "duration": 10,
    "start_time": "2025-02-01T12:56:00.118Z"
   },
   {
    "duration": 2,
    "start_time": "2025-02-01T12:56:00.130Z"
   },
   {
    "duration": 2,
    "start_time": "2025-02-01T12:56:00.136Z"
   },
   {
    "duration": 39,
    "start_time": "2025-02-01T12:56:00.140Z"
   },
   {
    "duration": 4,
    "start_time": "2025-02-01T12:56:00.181Z"
   },
   {
    "duration": 3,
    "start_time": "2025-02-01T12:56:00.186Z"
   },
   {
    "duration": 7,
    "start_time": "2025-02-01T12:56:00.191Z"
   },
   {
    "duration": 5,
    "start_time": "2025-02-01T12:56:00.199Z"
   },
   {
    "duration": 3,
    "start_time": "2025-02-01T12:56:00.205Z"
   },
   {
    "duration": 61,
    "start_time": "2025-02-01T12:56:00.210Z"
   },
   {
    "duration": 10,
    "start_time": "2025-02-01T12:56:00.272Z"
   },
   {
    "duration": 88,
    "start_time": "2025-02-01T12:56:00.283Z"
   },
   {
    "duration": 11,
    "start_time": "2025-02-01T12:56:00.373Z"
   },
   {
    "duration": 5,
    "start_time": "2025-02-01T12:56:00.386Z"
   },
   {
    "duration": 79,
    "start_time": "2025-02-01T12:56:00.392Z"
   },
   {
    "duration": 5,
    "start_time": "2025-02-01T12:56:00.474Z"
   },
   {
    "duration": 3,
    "start_time": "2025-02-01T12:56:00.480Z"
   },
   {
    "duration": 3,
    "start_time": "2025-02-01T12:56:00.485Z"
   },
   {
    "duration": 3,
    "start_time": "2025-02-01T12:56:00.489Z"
   },
   {
    "duration": 6,
    "start_time": "2025-02-01T12:56:00.494Z"
   },
   {
    "duration": 5,
    "start_time": "2025-02-01T12:56:00.501Z"
   },
   {
    "duration": 5,
    "start_time": "2025-02-01T13:04:35.935Z"
   },
   {
    "duration": 9,
    "start_time": "2025-02-01T13:06:51.366Z"
   }
  ],
  "kernelspec": {
   "display_name": "base",
   "language": "python",
   "name": "python3"
  },
  "language_info": {
   "codemirror_mode": {
    "name": "ipython",
    "version": 3
   },
   "file_extension": ".py",
   "mimetype": "text/x-python",
   "name": "python",
   "nbconvert_exporter": "python",
   "pygments_lexer": "ipython3",
   "version": "3.12.4"
  },
  "toc": {
   "base_numbering": 1,
   "nav_menu": {},
   "number_sections": true,
   "sideBar": true,
   "skip_h1_title": true,
   "title_cell": "Table of Contents",
   "title_sidebar": "Contents",
   "toc_cell": false,
   "toc_position": {},
   "toc_section_display": true,
   "toc_window_display": false
  }
 },
 "nbformat": 4,
 "nbformat_minor": 4
}
